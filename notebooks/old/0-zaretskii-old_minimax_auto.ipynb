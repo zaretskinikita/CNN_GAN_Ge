{
 "cells": [
  {
   "cell_type": "markdown",
   "metadata": {},
   "source": [
    "# Minimax with autoencoder"
   ]
  },
  {
   "cell_type": "code",
   "execution_count": 2,
   "metadata": {},
   "outputs": [],
   "source": [
    "from collections import OrderedDict\n",
    "\n",
    "import pandas as pd\n",
    "#import uproot\n",
    "import numpy as np\n",
    "import seaborn as sns\n",
    "import matplotlib.pyplot as plt\n",
    "\n",
    "from sklearn import model_selection\n",
    "from sklearn import metrics\n",
    "import torch\n",
    "import torch.nn as nn\n",
    "import torch.optim as optim\n",
    "from torch.utils.data import Dataset, DataLoader\n",
    "import time\n",
    "from sklearn.utils import shuffle\n",
    "from sklearn.preprocessing import StandardScaler    \n",
    "from sklearn.model_selection import train_test_split\n",
    "from sklearn.metrics import confusion_matrix, classification_report\n",
    "from sklearn.metrics import auc\n",
    "from sklearn.utils import shuffle\n",
    "import matplotlib\n",
    "import random\n",
    "import torch.autograd as autograd\n",
    "from xgboost import XGBClassifier\n",
    "from sklearn.model_selection import cross_val_score, KFold\n",
    "import sklearn.metrics\n",
    "import h5py\n",
    "import torch.nn.functional as F\n",
    "\n",
    "import torch.distributions.multivariate_normal as mn\n",
    "import math\n",
    "import pickle\n",
    "\n",
    "import torch.autograd as autograd\n",
    "from sklearn.preprocessing import StandardScaler\n",
    "\n",
    "from scipy.stats import multivariate_normal\n",
    "from sklearn.covariance import LedoitWolf\n",
    "\n",
    "random_seed = 99\n",
    "torch.manual_seed(random_seed)\n",
    "DEVICE = torch.device('mps' if torch.backends.mps.is_available() else \"cpu\")"
   ]
  },
  {
   "cell_type": "code",
   "execution_count": 3,
   "metadata": {},
   "outputs": [],
   "source": [
    "pulses = pickle.load(open('/Users/nzaretski/Desktop/gerda/CNN_GAN_Ge/data/raw/data.pkl','rb'))\n",
    "pulses = pulses.astype(float)"
   ]
  },
  {
   "cell_type": "code",
   "execution_count": 4,
   "metadata": {},
   "outputs": [],
   "source": [
    "from sklearn.preprocessing import StandardScaler\n",
    "scaler = StandardScaler()\n",
    "pulses = scaler.fit_transform(pulses)\n",
    "\n",
    "import pickle\n",
    "pickle.dump(scaler, open('scaler.pkl','wb'))"
   ]
  },
  {
   "cell_type": "code",
   "execution_count": 5,
   "metadata": {},
   "outputs": [],
   "source": [
    "train_data_length = pulses.shape[0]\n",
    "train_data = torch.zeros((train_data_length, 3748))\n",
    "train_data = torch.tensor(pulses, dtype=torch.float)\n",
    "train_labels = torch.zeros(train_data_length, 1)\n",
    "\n",
    "train_set = [\n",
    "    (train_data[i], train_labels[i]) for i in range(train_data_length)\n",
    "]"
   ]
  },
  {
   "cell_type": "code",
   "execution_count": 6,
   "metadata": {},
   "outputs": [],
   "source": [
    "batch_size = 128"
   ]
  },
  {
   "cell_type": "code",
   "execution_count": 7,
   "metadata": {},
   "outputs": [],
   "source": [
    "train_loader = torch.utils.data.DataLoader(\n",
    "    train_set, batch_size=batch_size, shuffle=True, drop_last=True\n",
    ")"
   ]
  },
  {
   "cell_type": "markdown",
   "metadata": {},
   "source": [
    "## 1. Models"
   ]
  },
  {
   "cell_type": "code",
   "execution_count": 8,
   "metadata": {},
   "outputs": [],
   "source": [
    "#epochs = 500\n",
    "lr = 1e-4\n",
    "#autoenc\n",
    "seq_len = 5000\n",
    "emb_dim = seq_len // 16\n",
    "#wgan\n",
    "hidden_dim = 8\n",
    "latent_dims = 32 \n"
   ]
  },
  {
   "cell_type": "code",
   "execution_count": 11,
   "metadata": {},
   "outputs": [],
   "source": [
    "class Encoder(nn.Module):   ## changed\n",
    "    def __init__(self):\n",
    "        super(Encoder, self).__init__()\n",
    "        self.seq_len = seq_len\n",
    "        self.emb_dim = emb_dim\n",
    "        self.model = nn.Sequential(            \n",
    "            nn.Conv1d(self.seq_len, self.seq_len // 2, 1,  bias=False),\n",
    "            nn.LeakyReLU(0.2, inplace=True),\n",
    "\n",
    "            nn.Conv1d(self.seq_len // 2, self.seq_len // 4, 1, bias=False),\n",
    "            nn.BatchNorm1d(self.seq_len // 4),\n",
    "            nn.LeakyReLU(0.2, inplace=True),\n",
    "\n",
    "            nn.Conv1d(self.seq_len // 4, self.seq_len // 8, 1, bias=False),\n",
    "            nn.BatchNorm1d(self.seq_len // 8),\n",
    "            nn.LeakyReLU(0.2, inplace=True),\n",
    "\n",
    "            nn.Conv1d(self.seq_len // 8, self.emb_dim, 1, bias=False),\n",
    "        )\n",
    "\n",
    "    def forward(self, x):\n",
    "        x = x.unsqueeze(-1)\n",
    "        output = self.model(x)\n",
    "        return output.squeeze(-1)"
   ]
  },
  {
   "cell_type": "code",
   "execution_count": 13,
   "metadata": {},
   "outputs": [],
   "source": [
    "class Decoder(nn.Module):\n",
    "    def __init__(self):\n",
    "        super(Decoder, self).__init__()\n",
    "        self.seq_len = seq_len\n",
    "        self.emb_dim = emb_dim\n",
    "        self.model = nn.Sequential(\n",
    "            nn.ConvTranspose1d(self.emb_dim, self.seq_len // 8, 1, bias=False),\n",
    "            nn.BatchNorm1d(self.seq_len // 8),\n",
    "            nn.ReLU(True),\n",
    "\n",
    "            nn.ConvTranspose1d(self.seq_len // 8, self.seq_len // 4, 1, bias=False),\n",
    "            nn.BatchNorm1d(self.seq_len // 4),\n",
    "            nn.ReLU(True),\n",
    "\n",
    "            nn.ConvTranspose1d(self.seq_len // 4, self.seq_len // 2, 1, bias=False),\n",
    "            nn.BatchNorm1d(self.seq_len // 2),\n",
    "            nn.ReLU(True),\n",
    "\n",
    "            nn.ConvTranspose1d(self.seq_len // 2, self.seq_len, 1, bias=False),\n",
    "      )\n",
    "\n",
    "\n",
    "    def forward(self, z):\n",
    "        z = z.unsqueeze(-1)\n",
    "        output = self.model(z)  \n",
    "        return output.squeeze(-1)"
   ]
  },
  {
   "cell_type": "code",
   "execution_count": 14,
   "metadata": {},
   "outputs": [],
   "source": [
    "class Discriminator(nn.Module):   ## changed\n",
    "    def __init__(self):\n",
    "        super(Discriminator, self).__init__()\n",
    "        self.emb_dim = emb_dim\n",
    "        self.model = nn.Sequential(            \n",
    "            nn.Conv1d(self.emb_dim, self.emb_dim // 2, 1,  bias=False),\n",
    "            nn.LeakyReLU(0.2, inplace=True),\n",
    "\n",
    "            nn.Conv1d(self.emb_dim // 2, self.emb_dim // 4, 1, bias=False),\n",
    "            nn.BatchNorm1d(self.emb_dim // 4),\n",
    "            nn.LeakyReLU(0.2, inplace=True),\n",
    "\n",
    "            nn.Conv1d(self.emb_dim // 4, self.emb_dim // 8, 1, bias=False),\n",
    "            nn.BatchNorm1d(self.emb_dim // 8),\n",
    "            nn.LeakyReLU(0.2, inplace=True),\n",
    "\n",
    "            nn.Conv1d(self.emb_dim // 8, 1, 1, bias=False),\n",
    "        )\n",
    "\n",
    "    def forward(self, x):\n",
    "        x = x.unsqueeze(-1)\n",
    "        output = self.model(x)\n",
    "        return output.squeeze(-1)"
   ]
  },
  {
   "cell_type": "code",
   "execution_count": 15,
   "metadata": {},
   "outputs": [],
   "source": [
    "class Generator(nn.Module):\n",
    "    def __init__(self):\n",
    "        super(Generator, self).__init__()\n",
    "        self.seq_len = emb_dim\n",
    "        self.emb_dim = latent_dims\n",
    "        self.model = nn.Sequential(\n",
    "            nn.ConvTranspose1d(self.emb_dim, self.seq_len // 8, 1, bias=False),\n",
    "            nn.BatchNorm1d(self.seq_len // 8),\n",
    "            nn.ReLU(True),\n",
    "\n",
    "            nn.ConvTranspose1d(self.seq_len // 8, self.seq_len // 4, 1, bias=False),\n",
    "            nn.BatchNorm1d(self.seq_len // 4),\n",
    "            nn.ReLU(True),\n",
    "\n",
    "            nn.ConvTranspose1d(self.seq_len // 4, self.seq_len // 2, 1, bias=False),\n",
    "            nn.BatchNorm1d(self.seq_len // 2),\n",
    "            nn.ReLU(True),\n",
    "\n",
    "            nn.ConvTranspose1d(self.seq_len // 2, self.seq_len, 1, bias=False),\n",
    "      )\n",
    "\n",
    "\n",
    "    def forward(self, z):\n",
    "        z = z.unsqueeze(-1)\n",
    "        output = self.model(z)  \n",
    "        return output.squeeze(-1)"
   ]
  },
  {
   "cell_type": "markdown",
   "metadata": {},
   "source": [
    "# Autoencoder"
   ]
  },
  {
   "cell_type": "code",
   "execution_count": 22,
   "metadata": {},
   "outputs": [],
   "source": [
    "epochs_autoen = 50"
   ]
  },
  {
   "cell_type": "code",
   "execution_count": 23,
   "metadata": {},
   "outputs": [],
   "source": [
    "encoder = Encoder().to(DEVICE)\n",
    "decoder = Decoder().to(DEVICE)\n",
    "recon_loss = nn.MSELoss(reduction = 'sum').to(DEVICE)"
   ]
  },
  {
   "cell_type": "code",
   "execution_count": 27,
   "metadata": {},
   "outputs": [],
   "source": [
    "optim_encoder = torch.optim.Adam(encoder.parameters(), lr=1e-3)\n",
    "optim_decoder = torch.optim.Adam(decoder.parameters(), lr=1e-3)"
   ]
  },
  {
   "cell_type": "code",
   "execution_count": 26,
   "metadata": {},
   "outputs": [
    {
     "name": "stdout",
     "output_type": "stream",
     "text": [
      "Train Epoch: 0 [0/2619 (0%)]\tLoss: 200138.218750\n",
      "Train Epoch: 1 [0/2619 (0%)]\tLoss: 84142.679688\n",
      "Train Epoch: 2 [0/2619 (0%)]\tLoss: 68891.843750\n",
      "Train Epoch: 3 [0/2619 (0%)]\tLoss: 54553.054688\n",
      "Train Epoch: 4 [0/2619 (0%)]\tLoss: 29515.617188\n",
      "Train Epoch: 5 [0/2619 (0%)]\tLoss: 21907.824219\n",
      "Train Epoch: 6 [0/2619 (0%)]\tLoss: 65322.453125\n",
      "Train Epoch: 7 [0/2619 (0%)]\tLoss: 81982.234375\n",
      "Train Epoch: 8 [0/2619 (0%)]\tLoss: 38470.339844\n",
      "Train Epoch: 9 [0/2619 (0%)]\tLoss: 23323.515625\n",
      "Train Epoch: 10 [0/2619 (0%)]\tLoss: 25118.099609\n",
      "Train Epoch: 11 [0/2619 (0%)]\tLoss: 93835.187500\n",
      "Train Epoch: 12 [0/2619 (0%)]\tLoss: 16128.142578\n",
      "Train Epoch: 13 [0/2619 (0%)]\tLoss: 106505.265625\n",
      "Train Epoch: 14 [0/2619 (0%)]\tLoss: 19891.304688\n",
      "Train Epoch: 15 [0/2619 (0%)]\tLoss: 49520.355469\n",
      "Train Epoch: 16 [0/2619 (0%)]\tLoss: 14584.189453\n",
      "Train Epoch: 17 [0/2619 (0%)]\tLoss: 22912.023438\n",
      "Train Epoch: 18 [0/2619 (0%)]\tLoss: 66637.625000\n",
      "Train Epoch: 19 [0/2619 (0%)]\tLoss: 24902.925781\n",
      "Train Epoch: 20 [0/2619 (0%)]\tLoss: 13424.560547\n",
      "Train Epoch: 21 [0/2619 (0%)]\tLoss: 16875.460938\n",
      "Train Epoch: 22 [0/2619 (0%)]\tLoss: 37506.312500\n",
      "Train Epoch: 23 [0/2619 (0%)]\tLoss: 8370.226562\n",
      "Train Epoch: 24 [0/2619 (0%)]\tLoss: 30821.933594\n",
      "Train Epoch: 25 [0/2619 (0%)]\tLoss: 14931.472656\n",
      "Train Epoch: 26 [0/2619 (0%)]\tLoss: 18717.060547\n",
      "Train Epoch: 27 [0/2619 (0%)]\tLoss: 47774.886719\n",
      "Train Epoch: 28 [0/2619 (0%)]\tLoss: 14191.415039\n",
      "Train Epoch: 29 [0/2619 (0%)]\tLoss: 18244.810547\n",
      "Train Epoch: 30 [0/2619 (0%)]\tLoss: 17176.375000\n",
      "Train Epoch: 31 [0/2619 (0%)]\tLoss: 28345.931641\n",
      "Train Epoch: 32 [0/2619 (0%)]\tLoss: 8830.973633\n",
      "Train Epoch: 33 [0/2619 (0%)]\tLoss: 7963.197266\n",
      "Train Epoch: 34 [0/2619 (0%)]\tLoss: 8349.468750\n",
      "Train Epoch: 35 [0/2619 (0%)]\tLoss: 6789.544922\n",
      "Train Epoch: 36 [0/2619 (0%)]\tLoss: 13064.028320\n",
      "Train Epoch: 37 [0/2619 (0%)]\tLoss: 8475.752930\n",
      "Train Epoch: 38 [0/2619 (0%)]\tLoss: 54178.472656\n",
      "Train Epoch: 39 [0/2619 (0%)]\tLoss: 23362.640625\n",
      "Train Epoch: 40 [0/2619 (0%)]\tLoss: 8579.547852\n",
      "Train Epoch: 41 [0/2619 (0%)]\tLoss: 248452.281250\n",
      "Train Epoch: 42 [0/2619 (0%)]\tLoss: 18707.083984\n",
      "Train Epoch: 43 [0/2619 (0%)]\tLoss: 19044.769531\n",
      "Train Epoch: 44 [0/2619 (0%)]\tLoss: 18302.490234\n",
      "Train Epoch: 45 [0/2619 (0%)]\tLoss: 28748.955078\n",
      "Train Epoch: 46 [0/2619 (0%)]\tLoss: 9032.365234\n",
      "Train Epoch: 47 [0/2619 (0%)]\tLoss: 10606.631836\n",
      "Train Epoch: 48 [0/2619 (0%)]\tLoss: 9350.062500\n",
      "Train Epoch: 49 [0/2619 (0%)]\tLoss: 6688.138184\n"
     ]
    }
   ],
   "source": [
    "params_to_optimize = [\n",
    "    {'params': encoder.parameters()},\n",
    "    {'params': decoder.parameters()}\n",
    "]\n",
    "optim = torch.optim.Adam(params_to_optimize, lr=lr, weight_decay=1e-05)\n",
    "losses = []\n",
    "for epoch in range(epochs_autoen):\n",
    "    for i, (x, y) in enumerate(train_loader):\n",
    "        x = x.to(DEVICE)\n",
    "        z = encoder(x)\n",
    "        x_hat = decoder(z)\n",
    "        loss = recon_loss(x, x_hat)\n",
    "        optim.zero_grad()\n",
    "        loss.backward()\n",
    "        optim.step()\n",
    "        if i % 20 == 0:\n",
    "            print('Train Epoch: {} [{}/{} ({:.0f}%)]\\tLoss: {:.6f}'.format(\n",
    "                epoch, i * len(x), len(train_loader.dataset),\n",
    "                100. * i / len(train_loader), loss.item()))       \n",
    "        losses.append(loss.item())\n",
    "torch.save(decoder.state_dict(), 'decoder.pth')"
   ]
  },
  {
   "cell_type": "code",
   "execution_count": 28,
   "metadata": {},
   "outputs": [
    {
     "data": {
      "image/png": "[encoded data removed]",
      "text/plain": [
       "<Figure size 432x288 with 1 Axes>"
      ]
     },
     "metadata": {
      "needs_background": "light"
     },
     "output_type": "display_data"
    }
   ],
   "source": [
    "fig = plt.figure()\n",
    "plt.plot(losses, '.')\n",
    "plt.xlabel('Iterations')\n",
    "plt.ylabel('Loss')\n",
    "plt.title(\"Autoencoder\")\n",
    "fig.savefig('Auto_losses.png')"
   ]
  },
  {
   "cell_type": "code",
   "execution_count": 29,
   "metadata": {},
   "outputs": [
    {
     "data": {
      "text/plain": [
       "[<matplotlib.lines.Line2D at 0x291ebf790>]"
      ]
     },
     "execution_count": 29,
     "metadata": {},
     "output_type": "execute_result"
    },
    {
     "data": {
      "image/png": "[encoded data removed]",
      "text/plain": [
       "<Figure size 432x288 with 1 Axes>"
      ]
     },
     "metadata": {
      "needs_background": "light"
     },
     "output_type": "display_data"
    }
   ],
   "source": [
    "fixed_noise = torch.rand(128, emb_dim) \n",
    "with torch.no_grad(): #??\n",
    "    fixed_noisev = fixed_noise.to(DEVICE)\n",
    "plt.plot(decoder(fixed_noisev).cpu().detach()[0])"
   ]
  },
  {
   "cell_type": "markdown",
   "metadata": {},
   "source": [
    "# Minimax\n"
   ]
  },
  {
   "cell_type": "code",
   "execution_count": 30,
   "metadata": {},
   "outputs": [],
   "source": [
    "netD = Discriminator().to(DEVICE)\n",
    "netG = Generator().to(DEVICE)\n",
    "criterion = nn.BCELoss()\n",
    "optimizerD = torch.optim.Adam(netD.parameters(), lr=lr)\n",
    "optimizerG = torch.optim.Adam(netG.parameters(), lr=lr)"
   ]
  },
  {
   "cell_type": "code",
   "execution_count": 31,
   "metadata": {},
   "outputs": [],
   "source": [
    "epochs = 100"
   ]
  },
  {
   "cell_type": "code",
   "execution_count": 32,
   "metadata": {},
   "outputs": [
    {
     "name": "stdout",
     "output_type": "stream",
     "text": [
      "2.75  seconds\n"
     ]
    }
   ],
   "source": [
    "random_dim = latent_dims\n",
    "G_losses = []\n",
    "D_losses = []\n",
    "import time\n",
    "start_time = time.time()\n",
    "\n",
    "for epoch in range(epochs):\n",
    "    for i, (x, y) in enumerate(train_loader):\n",
    "        x = x.to(DEVICE)\n",
    "        x = encoder(x)\n",
    "        real_samples_labels = torch.ones((batch_size, 1))\n",
    "        real_samples_labels = real_samples_labels.to(DEVICE)\n",
    "        \n",
    "        latent_space_samples = torch.randn((batch_size, random_dim))\n",
    "        latent_space_samples = latent_space_samples.to(DEVICE)\n",
    "        \n",
    "        generated_samples = netG(latent_space_samples)\n",
    "        \n",
    "        generated_samples_labels = torch.zeros((batch_size, 1))\n",
    "        generated_samples_labels = generated_samples_labels.to(DEVICE)\n",
    "        \n",
    "        all_samples = torch.cat((x, generated_samples))\n",
    "        all_samples_labels = torch.cat((real_samples_labels, generated_samples_labels))\n",
    "        \n",
    "        ## training the discriminator\n",
    "        netD.zero_grad()\n",
    "        output_discriminator = netD(all_samples)\n",
    "        \n",
    "        errD = criterion(output_discriminator, all_samples_labels)\n",
    "        errD.backward()\n",
    "        optimizerD.step()\n",
    "        \n",
    "        ## training the generator\n",
    "        latent_space_samples = torch.randn(batch_size, random_dim)\n",
    "        latent_space_samples = latent_space_samples.to(DEVICE)\n",
    "        netG.zero_grad()\n",
    "        generated_samples = netG(latent_space_samples)\n",
    "        outputDG = netD(generated_samples)\n",
    "        errG = criterion(outputDG, real_samples_labels) #########\n",
    "        errG.backward()\n",
    "        optimizerG.step()\n",
    "        \n",
    "        G_losses.append(errG.item()) \n",
    "        D_losses.append(errD.item())\n",
    "    \n",
    "        \n",
    "        if (epoch % 5 == 0 and i == batch_size - 1):\n",
    "                print(f\"Epoch{epoch} Loss D.: {errD}\" \"||\" \n",
    "                  f\"Loss G.: {errG}\")\n",
    "                \n",
    "    if (epoch == 0):\n",
    "        print(round(time.time() - start_time, 2), ' seconds')\n",
    "    \n",
    "    if (epoch % 50 == 0) and (epoch > 0):\n",
    "        torch.save(netG.state_dict(), 'gen' +str(epoch) + '.pth')\n",
    "        torch.save(netD.state_dict(), 'discr' +str(epoch) + '.pth')   \n",
    "        "
   ]
  },
  {
   "cell_type": "code",
   "execution_count": 33,
   "metadata": {},
   "outputs": [],
   "source": [
    "torch.save(netG.state_dict(), 'minimax_auto.pth')"
   ]
  },
  {
   "cell_type": "code",
   "execution_count": 34,
   "metadata": {
    "scrolled": true
   },
   "outputs": [
    {
     "data": {
      "image/png": "[encoded data removed]",
      "text/plain": [
       "<Figure size 432x288 with 1 Axes>"
      ]
     },
     "metadata": {
      "needs_background": "light"
     },
     "output_type": "display_data"
    }
   ],
   "source": [
    "fig = plt.figure()\n",
    "plt.plot(G_losses, '.', label='generator')\n",
    "plt.plot(D_losses, '.',  label='discriminator')\n",
    "plt.title('Loss functions')\n",
    "plt.xlabel('Epochs')\n",
    "plt.ylabel('Loss')\n",
    "plt.legend()\n",
    "fig.savefig('losses.png')"
   ]
  },
  {
   "cell_type": "code",
   "execution_count": null,
   "metadata": {},
   "outputs": [],
   "source": [
    "## Check"
   ]
  },
  {
   "cell_type": "code",
   "execution_count": 40,
   "metadata": {},
   "outputs": [],
   "source": [
    "x = torch.randn(10, random_dim).to(DEVICE)"
   ]
  },
  {
   "cell_type": "code",
   "execution_count": 41,
   "metadata": {},
   "outputs": [],
   "source": [
    "noise = netG(x)"
   ]
  },
  {
   "cell_type": "code",
   "execution_count": 49,
   "metadata": {},
   "outputs": [],
   "source": [
    "a = decoder(noise).detach().cpu()"
   ]
  },
  {
   "cell_type": "code",
   "execution_count": 50,
   "metadata": {},
   "outputs": [
    {
     "data": {
      "text/plain": [
       "torch.Size([10, 5000])"
      ]
     },
     "execution_count": 50,
     "metadata": {},
     "output_type": "execute_result"
    }
   ],
   "source": [
    "a.shape"
   ]
  },
  {
   "cell_type": "code",
   "execution_count": 51,
   "metadata": {},
   "outputs": [
    {
     "data": {
      "text/plain": [
       "[<matplotlib.lines.Line2D at 0x306229fd0>]"
      ]
     },
     "execution_count": 51,
     "metadata": {},
     "output_type": "execute_result"
    },
    {
     "data": {
      "image/png": "[encoded data removed]",
      "text/plain": [
       "<Figure size 432x288 with 1 Axes>"
      ]
     },
     "metadata": {
      "needs_background": "light"
     },
     "output_type": "display_data"
    }
   ],
   "source": [
    "plt.plot(a[0])"
   ]
  },
  {
   "cell_type": "code",
   "execution_count": null,
   "metadata": {},
   "outputs": [],
   "source": [
    "############"
   ]
  }
 ],
 "metadata": {
  "kernelspec": {
   "display_name": "Python 3 (ipykernel)",
   "language": "python",
   "name": "python3"
  },
  "language_info": {
   "codemirror_mode": {
    "name": "ipython",
    "version": 3
   },
   "file_extension": ".py",
   "mimetype": "text/x-python",
   "name": "python",
   "nbconvert_exporter": "python",
   "pygments_lexer": "ipython3",
   "version": "3.8.16"
  }
 },
 "nbformat": 4,
 "nbformat_minor": 4
}
