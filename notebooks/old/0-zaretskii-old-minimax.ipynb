{
 "cells": [
  {
   "cell_type": "markdown",
   "metadata": {},
   "source": [
    "# Classic minimax GAN"
   ]
  },
  {
   "cell_type": "code",
   "execution_count": 1,
   "metadata": {},
   "outputs": [],
   "source": [
    "from collections import OrderedDict\n",
    "\n",
    "import pandas as pd\n",
    "import numpy as np\n",
    "import seaborn as sns\n",
    "import matplotlib.pyplot as plt\n",
    "\n",
    "from sklearn import model_selection\n",
    "from sklearn import metrics\n",
    "import torch\n",
    "import torch.nn as nn\n",
    "import torch.optim as optim\n",
    "from torch.utils.data import Dataset, DataLoader\n",
    "import time\n",
    "from sklearn.utils import shuffle\n",
    "from sklearn.preprocessing import StandardScaler    \n",
    "from sklearn.model_selection import train_test_split\n",
    "from sklearn.metrics import confusion_matrix, classification_report\n",
    "from sklearn.metrics import auc\n",
    "from sklearn.utils import shuffle\n",
    "import matplotlib\n",
    "import random\n",
    "import torch.autograd as autograd\n",
    "from sklearn.model_selection import cross_val_score, KFold\n",
    "import sklearn.metrics\n",
    "import h5py\n",
    "import torch.nn.functional as F\n",
    "import pickle\n",
    "import torch.distributions.multivariate_normal as mn\n",
    "import math\n",
    "\n",
    "import torch.autograd as autograd\n",
    "from sklearn.preprocessing import StandardScaler\n",
    "\n",
    "from scipy.stats import multivariate_normal\n",
    "from sklearn.covariance import LedoitWolf\n",
    "\n",
    "from sklearn.decomposition import PCA\n",
    "\n",
    "random_seed = 99\n",
    "torch.manual_seed(random_seed)\n",
    "DEVICE = torch.device('mps' if torch.backends.mps.is_available() else \"cpu\")\n",
    "# DEVICE = torch.device('cpu')"
   ]
  },
  {
   "cell_type": "code",
   "execution_count": 2,
   "metadata": {},
   "outputs": [],
   "source": [
    "pulses = pickle.load(open('/Users/nzaretski/Desktop/gerda/CNN_GAN_Ge/data/raw/data.pkl','rb'))\n",
    "pulses = pulses.astype(float)"
   ]
  },
  {
   "cell_type": "code",
   "execution_count": 3,
   "metadata": {},
   "outputs": [],
   "source": [
    "from sklearn.preprocessing import StandardScaler\n",
    "scaler = StandardScaler()\n",
    "pulses = scaler.fit_transform(pulses) #remove"
   ]
  },
  {
   "cell_type": "code",
   "execution_count": 4,
   "metadata": {},
   "outputs": [],
   "source": [
    "train_data_length = pulses.shape[0]\n",
    "train_data = torch.zeros((train_data_length, pulses.shape[1]))\n",
    "train_data = torch.tensor(pulses, dtype=torch.float)\n",
    "train_labels = torch.zeros(train_data_length, 1)\n",
    "\n",
    "train_set = [\n",
    "    (train_data[i], train_labels[i]) for i in range(train_data_length)\n",
    "]"
   ]
  },
  {
   "cell_type": "code",
   "execution_count": 5,
   "metadata": {},
   "outputs": [],
   "source": [
    "batch_size = 128"
   ]
  },
  {
   "cell_type": "code",
   "execution_count": 6,
   "metadata": {},
   "outputs": [],
   "source": [
    "train_loader = torch.utils.data.DataLoader(\n",
    "    train_set, batch_size=batch_size, shuffle=True, drop_last=True\n",
    ")"
   ]
  },
  {
   "cell_type": "markdown",
   "metadata": {},
   "source": [
    "## 1. Models"
   ]
  },
  {
   "cell_type": "code",
   "execution_count": 7,
   "metadata": {},
   "outputs": [],
   "source": [
    "#epochs = 500\n",
    "lr = 1e-4\n",
    "#autoenc\n",
    "seq_len = 5000\n",
    "\n",
    "random_dim = 32 \n"
   ]
  },
  {
   "cell_type": "code",
   "execution_count": 8,
   "metadata": {},
   "outputs": [],
   "source": [
    "class Discriminator(nn.Module):   ## changed\n",
    "    def __init__(self):\n",
    "        super(Discriminator, self).__init__()\n",
    "        self.seq_len = seq_len\n",
    "        self.model = nn.Sequential(            \n",
    "            nn.Conv1d(self.seq_len, self.seq_len // 4, 1,  bias=False),\n",
    "            nn.LeakyReLU(0.2, inplace=True),\n",
    "\n",
    "            nn.Conv1d(self.seq_len // 4, self.seq_len // 16, 1, bias=False),\n",
    "            nn.BatchNorm1d(self.seq_len // 16),\n",
    "            nn.LeakyReLU(0.2, inplace=True),\n",
    "\n",
    "            nn.Conv1d(self.seq_len // 16, self.seq_len // 64, 1, bias=False),\n",
    "            nn.BatchNorm1d(self.seq_len // 64),\n",
    "            nn.LeakyReLU(0.2, inplace=True),\n",
    "            \n",
    "            nn.Conv1d(self.seq_len // 64, self.seq_len // 256, 1, bias=False),\n",
    "            nn.BatchNorm1d(self.seq_len // 256),\n",
    "            nn.LeakyReLU(0.2, inplace=True),\n",
    "\n",
    "            nn.Conv1d(self.seq_len // 256, 1, 1, bias=False),\n",
    "        )\n",
    "\n",
    "    def forward(self, x):\n",
    "        x = x.unsqueeze(-1)\n",
    "        output = self.model(x)\n",
    "        return torch.sigmoid(output.squeeze(-1))"
   ]
  },
  {
   "cell_type": "code",
   "execution_count": 9,
   "metadata": {},
   "outputs": [],
   "source": [
    "class Generator(nn.Module):\n",
    "    def __init__(self):\n",
    "        super(Generator, self).__init__()\n",
    "        self.seq_len = seq_len\n",
    "        self.latent_dims = random_dim\n",
    "        self.model = nn.Sequential(\n",
    "            nn.ConvTranspose1d(self.latent_dims, self.seq_len // 64, 1, bias=False),\n",
    "            nn.BatchNorm1d(self.seq_len // 64),\n",
    "            nn.ReLU(True),\n",
    "\n",
    "            nn.ConvTranspose1d(self.seq_len // 64, self.seq_len // 16, 1, bias=False),\n",
    "            nn.BatchNorm1d(self.seq_len // 16),\n",
    "            nn.ReLU(True),\n",
    "            \n",
    "            nn.ConvTranspose1d(self.seq_len // 16, self.seq_len // 4, 1, bias=False),\n",
    "            nn.BatchNorm1d(self.seq_len // 4),\n",
    "            nn.ReLU(True),\n",
    "            \n",
    "            nn.ConvTranspose1d(self.seq_len // 4, self.seq_len, 1, bias=False)\n",
    "      )\n",
    "\n",
    "\n",
    "    def forward(self, z):\n",
    "        z = z.unsqueeze(-1)\n",
    "        output = self.model(z)\n",
    "        return output.squeeze(-1)"
   ]
  },
  {
   "cell_type": "markdown",
   "metadata": {},
   "source": [
    "#  Minimax"
   ]
  },
  {
   "cell_type": "code",
   "execution_count": 10,
   "metadata": {},
   "outputs": [],
   "source": [
    "netD = Discriminator().to(DEVICE)\n",
    "netG = Generator().to(DEVICE)\n",
    "criterion = nn.BCELoss()\n",
    "optimizerD = torch.optim.Adam(netD.parameters(), lr=lr)\n",
    "optimizerG = torch.optim.Adam(netG.parameters(), lr=lr)"
   ]
  },
  {
   "cell_type": "code",
   "execution_count": 11,
   "metadata": {},
   "outputs": [],
   "source": [
    "epochs = 100"
   ]
  },
  {
   "cell_type": "code",
   "execution_count": 12,
   "metadata": {},
   "outputs": [
    {
     "name": "stdout",
     "output_type": "stream",
     "text": [
      "6.2  seconds\n"
     ]
    }
   ],
   "source": [
    "#autoenc\n",
    "EPS = 1e-15\n",
    "one = torch.FloatTensor([1])\n",
    "mone = one * -1\n",
    "one = one.to(DEVICE)\n",
    "mone = mone.to(DEVICE)\n",
    "\n",
    "G_losses = []\n",
    "D_losses = []\n",
    "import time\n",
    "start_time = time.time()\n",
    "\n",
    "for epoch in range(epochs):\n",
    "    for i, (x, y) in enumerate(train_loader):\n",
    "        x = x.to(DEVICE)\n",
    "        real_samples_labels = torch.ones((batch_size, 1))\n",
    "        real_samples_labels = real_samples_labels.to(DEVICE)\n",
    "        \n",
    "        latent_space_samples = torch.randn((batch_size, random_dim))\n",
    "        latent_space_samples = latent_space_samples.to(DEVICE)\n",
    "        \n",
    "        generated_samples = netG(latent_space_samples)\n",
    "        \n",
    "        generated_samples_labels = torch.zeros((batch_size, 1))\n",
    "        generated_samples_labels = generated_samples_labels.to(DEVICE)\n",
    "        \n",
    "        all_samples = torch.cat((x, generated_samples))\n",
    "        all_samples_labels = torch.cat((real_samples_labels, generated_samples_labels))\n",
    "        \n",
    "        ## training the discriminator\n",
    "        netD.zero_grad()\n",
    "        output_discriminator = netD(all_samples)\n",
    "        \n",
    "        errD = criterion(output_discriminator, all_samples_labels)\n",
    "        errD.backward()\n",
    "        optimizerD.step()\n",
    "        \n",
    "        ## training the generator\n",
    "        latent_space_samples = torch.randn(batch_size, random_dim)\n",
    "        latent_space_samples = latent_space_samples.to(DEVICE)\n",
    "        netG.zero_grad()\n",
    "        generated_samples = netG(latent_space_samples)\n",
    "        outputDG = netD(generated_samples)\n",
    "        errG = criterion(outputDG, real_samples_labels) #########\n",
    "        errG.backward()\n",
    "        optimizerG.step()\n",
    "        \n",
    "        G_losses.append(errG.item()) \n",
    "        D_losses.append(errD.item())\n",
    "    \n",
    "        \n",
    "        if (epoch % 50 == 0 and i == batch_size - 1):\n",
    "                print(f\"Epoch{epoch} Loss D.: {errD}\" \"||\" \n",
    "                  f\"Loss G.: {errG}\")\n",
    "                \n",
    "    if (epoch == 0):\n",
    "        print(round(time.time() - start_time, 2), ' seconds')\n",
    "    \n",
    "    if (epoch % 50 == 0):\n",
    "        torch.save(netG.state_dict(), 'gen' +str(epoch) + '.pth')\n",
    "        torch.save(netD.state_dict(), 'discr' +str(epoch) + '.pth')   \n",
    "        "
   ]
  },
  {
   "cell_type": "code",
   "execution_count": 13,
   "metadata": {},
   "outputs": [],
   "source": [
    "torch.save(netG.state_dict(), 'minimax.pth')"
   ]
  },
  {
   "cell_type": "code",
   "execution_count": 14,
   "metadata": {},
   "outputs": [
    {
     "data": {
      "image/png": "[encoded data removed]",
      "text/plain": [
       "<Figure size 432x288 with 1 Axes>"
      ]
     },
     "metadata": {
      "needs_background": "light"
     },
     "output_type": "display_data"
    }
   ],
   "source": [
    "fig = plt.figure()\n",
    "plt.plot(G_losses, '.', label='G')\n",
    "plt.plot(D_losses, '.',  label='D')\n",
    "plt.title('Loss functions')\n",
    "plt.xlabel('Iterations')\n",
    "plt.ylabel('Loss')\n",
    "plt.legend()\n",
    "fig.savefig('losses.png')"
   ]
  },
  {
   "cell_type": "markdown",
   "metadata": {},
   "source": [
    "# Check"
   ]
  },
  {
   "cell_type": "code",
   "execution_count": 15,
   "metadata": {},
   "outputs": [
    {
     "data": {
      "text/plain": [
       "<All keys matched successfully>"
      ]
     },
     "execution_count": 15,
     "metadata": {},
     "output_type": "execute_result"
    }
   ],
   "source": [
    "netG = Generator() \n",
    "netG.load_state_dict(torch.load(\"minimax.pth\"))"
   ]
  },
  {
   "cell_type": "code",
   "execution_count": 16,
   "metadata": {},
   "outputs": [],
   "source": [
    "x = torch.randn(10, random_dim)"
   ]
  },
  {
   "cell_type": "code",
   "execution_count": 17,
   "metadata": {},
   "outputs": [],
   "source": [
    "gen = netG(x).cpu().detach()\n",
    "#gen = pca.inverse_transform(gen) # back to 3748\n",
    "gen = scaler.inverse_transform(gen) # back to normal"
   ]
  },
  {
   "cell_type": "code",
   "execution_count": 18,
   "metadata": {},
   "outputs": [
    {
     "data": {
      "text/plain": [
       "[<matplotlib.lines.Line2D at 0x3232f84f0>]"
      ]
     },
     "execution_count": 18,
     "metadata": {},
     "output_type": "execute_result"
    },
    {
     "data": {
      "image/png": "[encoded data removed]",
      "text/plain": [
       "<Figure size 432x288 with 1 Axes>"
      ]
     },
     "metadata": {
      "needs_background": "light"
     },
     "output_type": "display_data"
    }
   ],
   "source": [
    "plt.plot(gen[0])"
   ]
  },
  {
   "cell_type": "code",
   "execution_count": null,
   "metadata": {},
   "outputs": [],
   "source": [
    "# bad shape!"
   ]
  },
  {
   "cell_type": "code",
   "execution_count": null,
   "metadata": {},
   "outputs": [],
   "source": []
  },
  {
   "cell_type": "code",
   "execution_count": null,
   "metadata": {},
   "outputs": [],
   "source": []
  }
 ],
 "metadata": {
  "kernelspec": {
   "display_name": "Python 3 (ipykernel)",
   "language": "python",
   "name": "python3"
  },
  "language_info": {
   "codemirror_mode": {
    "name": "ipython",
    "version": 3
   },
   "file_extension": ".py",
   "mimetype": "text/x-python",
   "name": "python",
   "nbconvert_exporter": "python",
   "pygments_lexer": "ipython3",
   "version": "3.8.16"
  }
 },
 "nbformat": 4,
 "nbformat_minor": 4
}
