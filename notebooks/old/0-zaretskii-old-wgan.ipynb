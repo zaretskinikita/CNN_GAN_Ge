{
 "cells": [
  {
   "cell_type": "markdown",
   "metadata": {},
   "source": [
    "# Classic wgan (without autoencoder)"
   ]
  },
  {
   "cell_type": "code",
   "execution_count": 1,
   "metadata": {},
   "outputs": [],
   "source": [
    "from collections import OrderedDict\n",
    "\n",
    "import pandas as pd\n",
    "import numpy as np\n",
    "import seaborn as sns\n",
    "import matplotlib.pyplot as plt\n",
    "\n",
    "from sklearn import model_selection\n",
    "from sklearn import metrics\n",
    "import torch\n",
    "import torch.nn as nn\n",
    "import torch.optim as optim\n",
    "from torch.utils.data import Dataset, DataLoader\n",
    "import time\n",
    "from sklearn.utils import shuffle\n",
    "from sklearn.preprocessing import StandardScaler    \n",
    "from sklearn.model_selection import train_test_split\n",
    "from sklearn.metrics import confusion_matrix, classification_report\n",
    "from sklearn.metrics import auc\n",
    "from sklearn.utils import shuffle\n",
    "import matplotlib\n",
    "import random\n",
    "import torch.autograd as autograd\n",
    "from sklearn.model_selection import cross_val_score, KFold\n",
    "import sklearn.metrics\n",
    "import h5py\n",
    "import torch.nn.functional as F\n",
    "import pickle\n",
    "import torch.distributions.multivariate_normal as mn\n",
    "import math\n",
    "\n",
    "import torch.autograd as autograd\n",
    "from sklearn.preprocessing import StandardScaler\n",
    "\n",
    "from scipy.stats import multivariate_normal\n",
    "from sklearn.covariance import LedoitWolf\n",
    "\n",
    "from sklearn.decomposition import PCA\n",
    "\n",
    "random_seed = 99\n",
    "torch.manual_seed(random_seed)\n",
    "DEVICE = torch.device('mps' if torch.backends.mps.is_available() else \"cpu\")\n",
    "# DEVICE = torch.device('cpu')"
   ]
  },
  {
   "cell_type": "code",
   "execution_count": 2,
   "metadata": {},
   "outputs": [],
   "source": [
    "pulses = pickle.load(open('/Users/nzaretski/Desktop/gerda/CNN_GAN_Ge/data/raw/data.pkl','rb'))\n",
    "pulses = pulses.astype(float)"
   ]
  },
  {
   "cell_type": "code",
   "execution_count": 3,
   "metadata": {},
   "outputs": [],
   "source": [
    "from sklearn.preprocessing import StandardScaler\n",
    "scaler = StandardScaler()\n",
    "pulses = scaler.fit_transform(pulses)\n",
    "\n",
    "\n",
    "pickle.dump(scaler, open('scaler.pkl','wb'))"
   ]
  },
  {
   "cell_type": "code",
   "execution_count": 4,
   "metadata": {},
   "outputs": [],
   "source": [
    "train_data_length = pulses.shape[0]\n",
    "train_data = torch.zeros((train_data_length, pulses.shape[1]))\n",
    "train_data = torch.tensor(pulses, dtype=torch.float)\n",
    "train_labels = torch.zeros(train_data_length, 1)\n",
    "\n",
    "train_set = [\n",
    "    (train_data[i], train_labels[i]) for i in range(train_data_length)\n",
    "]"
   ]
  },
  {
   "cell_type": "code",
   "execution_count": 5,
   "metadata": {},
   "outputs": [],
   "source": [
    "batch_size = 128"
   ]
  },
  {
   "cell_type": "code",
   "execution_count": 6,
   "metadata": {},
   "outputs": [],
   "source": [
    "train_loader = torch.utils.data.DataLoader(\n",
    "    train_set, batch_size=batch_size, shuffle=True, drop_last=True\n",
    ")"
   ]
  },
  {
   "cell_type": "markdown",
   "metadata": {},
   "source": [
    "## 1. Models"
   ]
  },
  {
   "cell_type": "code",
   "execution_count": 7,
   "metadata": {},
   "outputs": [],
   "source": [
    "#epochs = 500\n",
    "lr = 1e-4\n",
    "#autoenc\n",
    "seq_len = 5000\n",
    "random_dim = 32\n"
   ]
  },
  {
   "cell_type": "code",
   "execution_count": 8,
   "metadata": {},
   "outputs": [],
   "source": [
    "class Discriminator(nn.Module):   ## changed\n",
    "    def __init__(self):\n",
    "        super(Discriminator, self).__init__()\n",
    "        self.seq_len = seq_len\n",
    "        self.model = nn.Sequential(            \n",
    "            nn.Conv1d(self.seq_len, self.seq_len // 4, 1,  bias=False),\n",
    "            nn.LeakyReLU(0.2, inplace=True),\n",
    "\n",
    "            nn.Conv1d(self.seq_len // 4, self.seq_len // 16, 1, bias=False),\n",
    "            nn.BatchNorm1d(self.seq_len // 16),\n",
    "            nn.LeakyReLU(0.2, inplace=True),\n",
    "\n",
    "            nn.Conv1d(self.seq_len // 16, self.seq_len // 64, 1, bias=False),\n",
    "            nn.BatchNorm1d(self.seq_len // 64),\n",
    "            nn.LeakyReLU(0.2, inplace=True),\n",
    "            \n",
    "            nn.Conv1d(self.seq_len // 64, self.seq_len // 256, 1, bias=False),\n",
    "            nn.BatchNorm1d(self.seq_len // 256),\n",
    "            nn.LeakyReLU(0.2, inplace=True),\n",
    "\n",
    "            nn.Conv1d(self.seq_len // 256, 1, 1, bias=False),\n",
    "        )\n",
    "\n",
    "    def forward(self, x):\n",
    "        x = x.unsqueeze(-1)\n",
    "        output = self.model(x)\n",
    "        return torch.sigmoid(output.squeeze(-1))"
   ]
  },
  {
   "cell_type": "code",
   "execution_count": 9,
   "metadata": {},
   "outputs": [],
   "source": [
    "class Generator(nn.Module):\n",
    "    def __init__(self):\n",
    "        super(Generator, self).__init__()\n",
    "        self.seq_len = seq_len\n",
    "        self.latent_dims = random_dim\n",
    "        self.model = nn.Sequential(\n",
    "            nn.ConvTranspose1d(self.latent_dims, self.seq_len // 64, 1, bias=False),\n",
    "            nn.BatchNorm1d(self.seq_len // 64),\n",
    "            nn.ReLU(True),\n",
    "\n",
    "            nn.ConvTranspose1d(self.seq_len // 64, self.seq_len // 16, 1, bias=False),\n",
    "            nn.BatchNorm1d(self.seq_len // 16),\n",
    "            nn.ReLU(True),\n",
    "            \n",
    "            nn.ConvTranspose1d(self.seq_len // 16, self.seq_len // 4, 1, bias=False),\n",
    "            nn.BatchNorm1d(self.seq_len // 4),\n",
    "            nn.ReLU(True),\n",
    "            \n",
    "            nn.ConvTranspose1d(self.seq_len // 4, self.seq_len, 1, bias=False)\n",
    "      )\n",
    "\n",
    "\n",
    "    def forward(self, z):\n",
    "        z = z.unsqueeze(-1)\n",
    "        output = self.model(z)\n",
    "        return output.squeeze(-1)"
   ]
  },
  {
   "cell_type": "markdown",
   "metadata": {},
   "source": [
    "#  wgan"
   ]
  },
  {
   "cell_type": "code",
   "execution_count": 10,
   "metadata": {},
   "outputs": [],
   "source": [
    "netD = Discriminator().to(DEVICE)\n",
    "netG = Generator().to(DEVICE)"
   ]
  },
  {
   "cell_type": "code",
   "execution_count": 11,
   "metadata": {},
   "outputs": [],
   "source": [
    "optimizerD = torch.optim.Adam(netD.parameters(), lr=lr)\n",
    "optimizerG = torch.optim.Adam(netG.parameters(), lr=lr)\n",
    "loss_G=[]\n",
    "loss_D=[]\n",
    "\n",
    "G_losses = []\n",
    "D_losses = []\n",
    "\n",
    "one = torch.tensor(1, dtype=torch.float)\n",
    "mone = one * -1\n",
    "one = one.to(DEVICE)\n",
    "mone = mone.to(DEVICE)\n",
    "\n",
    "ITERS = 1000\n",
    "CRITIC_ITERS = 5"
   ]
  },
  {
   "cell_type": "code",
   "execution_count": 12,
   "metadata": {},
   "outputs": [],
   "source": [
    "def inf_train_gen():\n",
    "    while True:\n",
    "        for images,targets in train_loader:\n",
    "            yield images"
   ]
  },
  {
   "cell_type": "code",
   "execution_count": 13,
   "metadata": {},
   "outputs": [],
   "source": [
    "LAMBDA = 10\n",
    "\n",
    "def calc_gradient_penalty(netD, real_data, fake_data):\n",
    "    #print real_data.size()\n",
    "    alpha = torch.rand(batch_size, 1)\n",
    "    alpha = alpha.expand(real_data.size())\n",
    "    alpha = alpha.to(DEVICE)\n",
    "\n",
    "    interpolates = alpha * real_data + ((1 - alpha) * fake_data)\n",
    "\n",
    "    interpolates = interpolates.to(DEVICE)\n",
    "    interpolates = autograd.Variable(interpolates, requires_grad=True)\n",
    "\n",
    "    disc_interpolates = netD(interpolates)\n",
    "\n",
    "    gradients = autograd.grad(outputs=disc_interpolates, inputs=interpolates,\n",
    "                              grad_outputs=torch.ones(disc_interpolates.size()).to(DEVICE),\n",
    "                              create_graph=True, retain_graph=True, only_inputs=True)[0]\n",
    "\n",
    "    gradient_penalty = ((gradients.norm(2, dim=1) - 1) ** 2).mean() * LAMBDA\n",
    "    return gradient_penalty"
   ]
  },
  {
   "cell_type": "code",
   "execution_count": 14,
   "metadata": {},
   "outputs": [
    {
     "name": "stdout",
     "output_type": "stream",
     "text": [
      "0\n",
      "Approximately: 1464.0538692474365  seconds\n",
      "50\n",
      "100\n",
      "150\n",
      "200\n",
      "250\n",
      "300\n",
      "350\n",
      "400\n",
      "450\n",
      "500\n",
      "550\n",
      "600\n",
      "650\n",
      "700\n",
      "750\n",
      "800\n",
      "850\n",
      "900\n",
      "950\n"
     ]
    }
   ],
   "source": [
    "netD = netD.to(DEVICE)\n",
    "netG = netG.to(DEVICE)\n",
    "data = inf_train_gen()\n",
    "start_time = time.time()\n",
    "for iteration in range(ITERS):    \n",
    "    # (1) Update D network\n",
    "    for p in netD.parameters():  # reset requires_grad\n",
    "        p.requires_grad = True  # they are set to False below in netG update\n",
    "\n",
    "    for iter_d in range(CRITIC_ITERS):\n",
    "        _data = next(data)\n",
    "        _data = _data.to(DEVICE)\n",
    "        real_data = torch.Tensor(_data)\n",
    "        real_data = real_data.to(DEVICE)\n",
    "        real_data_v = autograd.Variable(real_data).to(DEVICE)\n",
    "\n",
    "        netD.zero_grad()\n",
    "\n",
    "        # train with real\n",
    "        D_real = netD(real_data_v)\n",
    "        D_real = D_real.mean()\n",
    "        # print D_real\n",
    "        D_real.backward(mone)\n",
    "\n",
    "        # train with fake\n",
    "        noise = torch.randn(batch_size, random_dim).to(DEVICE)\n",
    "        fake = netG(noise).detach()\n",
    "        inputv = fake\n",
    "        D_fake = netD(inputv)\n",
    "        D_fake = D_fake.mean()\n",
    "        D_fake.backward(one)\n",
    "\n",
    "        # train with gradient penalty\n",
    "        gradient_penalty = calc_gradient_penalty(netD, real_data_v.data, fake.data)\n",
    "        gradient_penalty.backward()\n",
    "\n",
    "        D_cost = D_fake - D_real + gradient_penalty\n",
    "        Wasserstein_D = D_real - D_fake\n",
    "        optimizerD.step()\n",
    "        \n",
    "    loss_D.append(D_cost.item())\n",
    "    # (2) Update G network\n",
    "    for p in netD.parameters():\n",
    "        p.requires_grad = False  # to avoid computation\n",
    "    netG.zero_grad()\n",
    "\n",
    "    _data = next(data)\n",
    "    noise = torch.randn(batch_size, random_dim).to(DEVICE)\n",
    "    noisev = autograd.Variable(noise).to(DEVICE)\n",
    "    fake = netG(noisev)\n",
    "    G = netD(fake)\n",
    "    G = G.mean()\n",
    "    G.backward(mone)\n",
    "    G_cost = -G\n",
    "    loss_G.append(G_cost.item())\n",
    "    optimizerG.step()\n",
    "    \n",
    "    if iteration % 50 == 0:\n",
    "        print(iteration)\n",
    "    if iteration == 0:\n",
    "        print('Approximately:', (time.time() - start_time )* ITERS, ' seconds')"
   ]
  },
  {
   "cell_type": "code",
   "execution_count": 15,
   "metadata": {},
   "outputs": [],
   "source": [
    "torch.save(netG.state_dict(), 'wgan.pth')"
   ]
  },
  {
   "cell_type": "code",
   "execution_count": 16,
   "metadata": {},
   "outputs": [
    {
     "data": {
      "image/png": "[encoded data removed]",
      "text/plain": [
       "<Figure size 432x288 with 1 Axes>"
      ]
     },
     "metadata": {
      "needs_background": "light"
     },
     "output_type": "display_data"
    }
   ],
   "source": [
    "fig = plt.figure()\n",
    "plt.plot(loss_G, '.', label='G')\n",
    "plt.plot(loss_D, '.',  label='D')\n",
    "plt.title('Loss functions')\n",
    "plt.xlabel('Iterations')\n",
    "plt.ylabel('Loss')\n",
    "plt.legend()\n",
    "fig.savefig('losses.png')"
   ]
  },
  {
   "cell_type": "markdown",
   "metadata": {},
   "source": [
    "# Check"
   ]
  },
  {
   "cell_type": "code",
   "execution_count": 17,
   "metadata": {},
   "outputs": [
    {
     "data": {
      "text/plain": [
       "<All keys matched successfully>"
      ]
     },
     "execution_count": 17,
     "metadata": {},
     "output_type": "execute_result"
    }
   ],
   "source": [
    "netG = Generator() \n",
    "netG.load_state_dict(torch.load(\"wgan.pth\"))"
   ]
  },
  {
   "cell_type": "code",
   "execution_count": 18,
   "metadata": {},
   "outputs": [],
   "source": [
    "x = torch.randn(10, 32)"
   ]
  },
  {
   "cell_type": "code",
   "execution_count": 19,
   "metadata": {},
   "outputs": [],
   "source": [
    "gen = netG(x).cpu().detach()\n",
    "#gen = pca.inverse_transform(gen) # back to 5000\n",
    "gen = scaler.inverse_transform(gen) # back to normal"
   ]
  },
  {
   "cell_type": "code",
   "execution_count": 20,
   "metadata": {},
   "outputs": [
    {
     "data": {
      "text/plain": [
       "[<matplotlib.lines.Line2D at 0x2e9b8cc70>]"
      ]
     },
     "execution_count": 20,
     "metadata": {},
     "output_type": "execute_result"
    },
    {
     "data": {
      "image/png": "[encoded data removed]",
      "text/plain": [
       "<Figure size 432x288 with 1 Axes>"
      ]
     },
     "metadata": {
      "needs_background": "light"
     },
     "output_type": "display_data"
    }
   ],
   "source": [
    "plt.plot(gen[0])"
   ]
  },
  {
   "cell_type": "code",
   "execution_count": 21,
   "metadata": {},
   "outputs": [
    {
     "data": {
      "text/plain": [
       "array([-63.39416174,  30.95339022, -95.45395163, ..., -56.76143361,\n",
       "        15.16628283,  10.20744415])"
      ]
     },
     "execution_count": 21,
     "metadata": {},
     "output_type": "execute_result"
    }
   ],
   "source": [
    "gen[0] - gen[1]"
   ]
  },
  {
   "cell_type": "code",
   "execution_count": null,
   "metadata": {},
   "outputs": [],
   "source": []
  },
  {
   "cell_type": "code",
   "execution_count": null,
   "metadata": {},
   "outputs": [],
   "source": []
  },
  {
   "cell_type": "code",
   "execution_count": null,
   "metadata": {},
   "outputs": [],
   "source": []
  }
 ],
 "metadata": {
  "kernelspec": {
   "display_name": "Python 3 (ipykernel)",
   "language": "python",
   "name": "python3"
  },
  "language_info": {
   "codemirror_mode": {
    "name": "ipython",
    "version": 3
   },
   "file_extension": ".py",
   "mimetype": "text/x-python",
   "name": "python",
   "nbconvert_exporter": "python",
   "pygments_lexer": "ipython3",
   "version": "3.8.16"
  }
 },
 "nbformat": 4,
 "nbformat_minor": 4
}
