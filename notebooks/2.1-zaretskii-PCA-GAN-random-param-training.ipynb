{
 "cells": [
  {
   "cell_type": "markdown",
   "metadata": {},
   "source": [
    "# PCA-GAN\n",
    "We use CNN-GAN, the PCA is applied to  data.\n",
    "The generator model generates samples from latent space to the PCA-space, the discriminator model distinguishes real and fake samples in the PCA-space. The inverse PCA transformation is used after generation in order to represent samples from the PCA-space to the initial space."
   ]
  },
  {
   "cell_type": "code",
   "execution_count": 2,
   "metadata": {},
   "outputs": [],
   "source": [
    "import pandas as pd\n",
    "import numpy as np\n",
    "import seaborn as sns\n",
    "import matplotlib.pyplot as plt\n",
    "import torch\n",
    "import torch.nn as nn\n",
    "import torch.optim as optim\n",
    "from torch.utils.data import Dataset, DataLoader\n",
    "import time\n",
    "from sklearn.utils import shuffle\n",
    "from sklearn.preprocessing import StandardScaler    \n",
    "import random\n",
    "import torch.autograd as autograd\n",
    "import torch.nn.functional as F\n",
    "\n",
    "import torch.autograd as autograd\n",
    "import pickle\n",
    "from sklearn.decomposition import PCA\n",
    "from sklearn.preprocessing import StandardScaler\n",
    "\n",
    "random_seed = 99\n",
    "torch.manual_seed(random_seed)\n",
    "random.seed(random_seed)\n",
    "DEVICE = torch.device('cpu')"
   ]
  },
  {
   "cell_type": "code",
   "execution_count": null,
   "metadata": {},
   "outputs": [],
   "source": [
    "seq_len = 256 # dimensionality of the PCA-space\n",
    "random_dim = 32 # the latent space dimensionality\n",
    "lr = 1e-4 # learning rate\n",
    "epochs = 100 \n",
    "batch_size = 128"
   ]
  },
  {
   "cell_type": "markdown",
   "metadata": {},
   "source": [
    "## 1. Preprocessing"
   ]
  },
  {
   "cell_type": "code",
   "execution_count": 3,
   "metadata": {},
   "outputs": [],
   "source": [
    "pulses = pickle.load(open('/Users/nzaretski/Desktop/gerda/CNN_GAN_Ge/data/raw/data.pkl','rb'))\n",
    "pulses = pulses.astype(float)"
   ]
  },
  {
   "cell_type": "code",
   "execution_count": 5,
   "metadata": {},
   "outputs": [
    {
     "data": {
      "image/png": "[encoded data removed]",
      "text/plain": [
       "<Figure size 432x288 with 1 Axes>"
      ]
     },
     "metadata": {
      "needs_background": "light"
     },
     "output_type": "display_data"
    }
   ],
   "source": [
    "plt.hist(np.max(pulses, axis = 1) - np.min(pulses, axis = 1), bins = 50, density=True)\n",
    "plt.title('Charge amplitude after cuts')\n",
    "plt.ylabel('a.u.')\n",
    "plt.show()"
   ]
  },
  {
   "cell_type": "code",
   "execution_count": 6,
   "metadata": {},
   "outputs": [
    {
     "data": {
      "text/plain": [
       "Text(0, 0.5, 'a.u.')"
      ]
     },
     "execution_count": 6,
     "metadata": {},
     "output_type": "execute_result"
    },
    {
     "data": {
      "image/png": "[encoded data removed]",
      "text/plain": [
       "<Figure size 432x288 with 1 Axes>"
      ]
     },
     "metadata": {
      "needs_background": "light"
     },
     "output_type": "display_data"
    }
   ],
   "source": [
    "plt.plot(pulses[1])\n",
    "plt.title('Pulse shape')\n",
    "plt.xlabel('time')\n",
    "plt.ylabel('a.u.')"
   ]
  },
  {
   "cell_type": "code",
   "execution_count": 6,
   "metadata": {},
   "outputs": [],
   "source": [
    "scaler = StandardScaler()\n",
    "pulses = scaler.fit_transform(pulses) \n",
    "\n",
    "pca = PCA(n_components=seq_len)\n",
    "pulses = pca.fit_transform(pulses)"
   ]
  },
  {
   "cell_type": "code",
   "execution_count": 7,
   "metadata": {},
   "outputs": [],
   "source": [
    "pickle.dump(scaler, open('scaler_pca.pkl','wb'))\n",
    "pickle.dump(pca, open('pca_pca.pkl','wb'))"
   ]
  },
  {
   "cell_type": "code",
   "execution_count": 7,
   "metadata": {},
   "outputs": [],
   "source": [
    "train_data_length = pulses.shape[0]\n",
    "train_data = torch.zeros((train_data_length, pulses.shape[1]))\n",
    "train_data = torch.tensor(pulses, dtype=torch.float)\n",
    "train_labels = torch.zeros(train_data_length, 1)\n",
    "\n",
    "train_set = [\n",
    "    (train_data[i], train_labels[i]) for i in range(train_data_length)\n",
    "]"
   ]
  },
  {
   "cell_type": "code",
   "execution_count": 10,
   "metadata": {},
   "outputs": [],
   "source": [
    "train_loader = torch.utils.data.DataLoader(\n",
    "    train_set, batch_size=batch_size, shuffle=True, drop_last=True\n",
    ")"
   ]
  },
  {
   "cell_type": "markdown",
   "metadata": {},
   "source": [
    "## 2. Models"
   ]
  },
  {
   "cell_type": "code",
   "execution_count": 12,
   "metadata": {},
   "outputs": [],
   "source": [
    "class Discriminator(nn.Module):\n",
    "    def __init__(self):\n",
    "        super(Discriminator, self).__init__()\n",
    "        self.seq_len = seq_len\n",
    "        self.model = nn.Sequential(            \n",
    "            nn.Conv1d(self.seq_len, self.seq_len // 2, 1,  bias=False),\n",
    "            nn.LeakyReLU(0.2, inplace=True),\n",
    "\n",
    "            nn.Conv1d(self.seq_len // 2, self.seq_len // 4, 1, bias=False),\n",
    "            nn.BatchNorm1d(self.seq_len // 4),\n",
    "            nn.LeakyReLU(0.2, inplace=True),\n",
    "\n",
    "            nn.Conv1d(self.seq_len // 4, self.seq_len // 8, 1, bias=False),\n",
    "            nn.BatchNorm1d(self.seq_len // 8),\n",
    "            nn.LeakyReLU(0.2, inplace=True),\n",
    "            \n",
    "            nn.Conv1d(self.seq_len // 8, self.seq_len // 16, 1, bias=False),\n",
    "            nn.BatchNorm1d(self.seq_len // 16),\n",
    "            nn.LeakyReLU(0.2, inplace=True),\n",
    "\n",
    "            nn.Conv1d(self.seq_len // 16, 1, 1, bias=False),\n",
    "        )\n",
    "    def forward(self, x):\n",
    "        x = x.unsqueeze(-1)\n",
    "        output = self.model(x)\n",
    "        return torch.sigmoid(output.squeeze(-1))"
   ]
  },
  {
   "cell_type": "code",
   "execution_count": 13,
   "metadata": {},
   "outputs": [],
   "source": [
    "class Generator(nn.Module):\n",
    "    def __init__(self):\n",
    "        super(Generator, self).__init__()\n",
    "        self.seq_len = seq_len\n",
    "        self.random_dim = random_dim\n",
    "        self.model = nn.Sequential(\n",
    "            nn.ConvTranspose1d(self.random_dim, self.seq_len // 4, 1, bias=False),\n",
    "            nn.BatchNorm1d(self.seq_len // 4),\n",
    "            nn.ReLU(True),\n",
    "\n",
    "            nn.ConvTranspose1d(self.seq_len // 4, self.seq_len // 2, 1, bias=False),\n",
    "            nn.BatchNorm1d(self.seq_len // 2),\n",
    "            nn.ReLU(True),\n",
    "            \n",
    "            nn.ConvTranspose1d(self.seq_len // 2, self.seq_len, 1, bias=False)\n",
    "      )\n",
    "    def forward(self, z):\n",
    "        z = z.unsqueeze(-1)\n",
    "        output = self.model(z)\n",
    "        return output.squeeze(-1)"
   ]
  },
  {
   "cell_type": "markdown",
   "metadata": {},
   "source": [
    "#  Minimax"
   ]
  },
  {
   "cell_type": "code",
   "execution_count": 14,
   "metadata": {},
   "outputs": [],
   "source": [
    "netD = Discriminator().to(DEVICE)\n",
    "netG = Generator().to(DEVICE)\n",
    "criterion = nn.BCELoss()\n",
    "\n",
    "optimizerD = torch.optim.Adam(netD.parameters(), lr=lr)\n",
    "optimizerG = torch.optim.Adam(netG.parameters(), lr=lr)"
   ]
  },
  {
   "cell_type": "code",
   "execution_count": 16,
   "metadata": {},
   "outputs": [
    {
     "name": "stdout",
     "output_type": "stream",
     "text": [
      "Epoch0 Loss D.: 0.5446690320968628||Loss G.: 0.573867917060852\n",
      "Epoch5 Loss D.: 0.3832833170890808||Loss G.: 0.5600488781929016\n",
      "Epoch10 Loss D.: 0.2947729527950287||Loss G.: 0.5520117878913879\n",
      "Epoch15 Loss D.: 0.26209941506385803||Loss G.: 0.530208170413971\n",
      "Epoch20 Loss D.: 0.24329623579978943||Loss G.: 0.5217076539993286\n",
      "Epoch25 Loss D.: 0.21450410783290863||Loss G.: 0.511107861995697\n",
      "Epoch30 Loss D.: 0.1953262835741043||Loss G.: 0.4924214780330658\n",
      "Epoch35 Loss D.: 0.17634934186935425||Loss G.: 0.48709163069725037\n",
      "Epoch40 Loss D.: 0.1626826971769333||Loss G.: 0.46796298027038574\n",
      "Epoch45 Loss D.: 0.1470693051815033||Loss G.: 0.46361613273620605\n",
      "Epoch50 Loss D.: 0.13524127006530762||Loss G.: 0.4471771717071533\n",
      "Epoch55 Loss D.: 0.12355910241603851||Loss G.: 0.4398009479045868\n",
      "Epoch60 Loss D.: 0.1137547418475151||Loss G.: 0.4222109615802765\n",
      "Epoch65 Loss D.: 0.1046956330537796||Loss G.: 0.42223018407821655\n",
      "Epoch70 Loss D.: 0.09588469564914703||Loss G.: 0.4177846312522888\n",
      "Epoch75 Loss D.: 0.0883539691567421||Loss G.: 0.40416672825813293\n",
      "Epoch80 Loss D.: 0.08153901249170303||Loss G.: 0.4035218358039856\n",
      "Epoch85 Loss D.: 0.07502198219299316||Loss G.: 0.3871130347251892\n",
      "Epoch90 Loss D.: 0.0689123272895813||Loss G.: 0.3841503858566284\n",
      "Epoch95 Loss D.: 0.06380245089530945||Loss G.: 0.37303426861763\n"
     ]
    }
   ],
   "source": [
    "G_losses = []\n",
    "D_losses = []\n",
    "\n",
    "for epoch in range(epochs):\n",
    "    for i, (x, y) in enumerate(train_loader):\n",
    "        # real samples\n",
    "        x = x.to(DEVICE)\n",
    "        real_samples_labels = torch.ones((batch_size, 1))\n",
    "        # real samples' labels = 1\n",
    "        real_samples_labels = real_samples_labels.to(DEVICE)\n",
    "        \n",
    "        # generated (fake) samples\n",
    "        latent_space_samples = torch.randn((batch_size, random_dim))\n",
    "        latent_space_samples = latent_space_samples.to(DEVICE)\n",
    "        generated_samples = netG(latent_space_samples)\n",
    "        # fake samples' labels = 0\n",
    "        generated_samples_labels = torch.zeros((batch_size, 1))\n",
    "        generated_samples_labels = generated_samples_labels.to(DEVICE)\n",
    "        \n",
    "        all_samples = torch.cat((x, generated_samples))\n",
    "        all_samples_labels = torch.cat((real_samples_labels, generated_samples_labels))\n",
    "        \n",
    "        ## training the discriminator\n",
    "        netD.zero_grad()\n",
    "        output_discriminator = netD(all_samples)\n",
    "        \n",
    "        errD = criterion(output_discriminator, all_samples_labels)\n",
    "        errD.backward()\n",
    "        optimizerD.step()\n",
    "        \n",
    "        ## training the generator\n",
    "        latent_space_samples = torch.randn(batch_size, random_dim)\n",
    "        latent_space_samples = latent_space_samples.to(DEVICE)\n",
    "        netG.zero_grad()\n",
    "        generated_samples = netG(latent_space_samples)\n",
    "        outputDG = netD(generated_samples)\n",
    "        errG = criterion(outputDG, real_samples_labels)\n",
    "        errG.backward()\n",
    "        optimizerG.step()\n",
    "        \n",
    "        G_losses.append(errG.item()) \n",
    "        D_losses.append(errD.item())\n",
    "    \n",
    "        \n",
    "    if (epoch % 5 == 0):\n",
    "            print(f\"Epoch{epoch} Loss D.: {errD}\" \"||\" \n",
    "              f\"Loss G.: {errG}\")"
   ]
  },
  {
   "cell_type": "code",
   "execution_count": 17,
   "metadata": {},
   "outputs": [],
   "source": [
    "torch.save(netG.state_dict(), 'generator_pca.pth')"
   ]
  },
  {
   "cell_type": "code",
   "execution_count": 18,
   "metadata": {},
   "outputs": [
    {
     "data": {
      "image/png": "[encoded data removed]",
      "text/plain": [
       "<Figure size 432x288 with 1 Axes>"
      ]
     },
     "metadata": {
      "needs_background": "light"
     },
     "output_type": "display_data"
    }
   ],
   "source": [
    "fig = plt.figure()\n",
    "plt.plot(G_losses, '.', label='G')\n",
    "plt.plot(D_losses, '.',  label='D')\n",
    "plt.title('Loss functions')\n",
    "plt.xlabel('Iterations')\n",
    "plt.ylabel('Loss')\n",
    "plt.legend()\n",
    "fig.savefig('losses.png')"
   ]
  },
  {
   "cell_type": "markdown",
   "metadata": {},
   "source": [
    "## 2. First check"
   ]
  },
  {
   "cell_type": "code",
   "execution_count": 19,
   "metadata": {},
   "outputs": [],
   "source": [
    "netG = Generator() \n",
    "netG.load_state_dict(torch.load(\"generator_pca.pth\"))\n",
    "\n",
    "pca = pickle.load(open('pca_pca.pkl','rb'))\n",
    "scaler = pickle.load(open('scaler_pca.pkl','rb'))"
   ]
  },
  {
   "cell_type": "code",
   "execution_count": 20,
   "metadata": {},
   "outputs": [],
   "source": [
    "x = torch.randn(10, random_dim)"
   ]
  },
  {
   "cell_type": "code",
   "execution_count": 21,
   "metadata": {},
   "outputs": [],
   "source": [
    "gen = netG(x).detach()\n",
    "gen = pca.inverse_transform(gen) # back to 5000 points\n",
    "gen = scaler.inverse_transform(gen)"
   ]
  },
  {
   "cell_type": "code",
   "execution_count": 22,
   "metadata": {},
   "outputs": [
    {
     "data": {
      "text/plain": [
       "[<matplotlib.lines.Line2D at 0x17fc535b0>]"
      ]
     },
     "execution_count": 22,
     "metadata": {},
     "output_type": "execute_result"
    },
    {
     "data": {
      "image/png": "[encoded data removed]",
      "text/plain": [
       "<Figure size 432x288 with 1 Axes>"
      ]
     },
     "metadata": {
      "needs_background": "light"
     },
     "output_type": "display_data"
    }
   ],
   "source": [
    "plt.plot(gen[0])\n",
    "plt.xlabel('time')\n",
    "#looks similar"
   ]
  }
 ],
 "metadata": {
  "kernelspec": {
   "display_name": "Python 3 (ipykernel)",
   "language": "python",
   "name": "python3"
  },
  "language_info": {
   "codemirror_mode": {
    "name": "ipython",
    "version": 3
   },
   "file_extension": ".py",
   "mimetype": "text/x-python",
   "name": "python",
   "nbconvert_exporter": "python",
   "pygments_lexer": "ipython3",
   "version": "3.8.16"
  }
 },
 "nbformat": 4,
 "nbformat_minor": 4
}
