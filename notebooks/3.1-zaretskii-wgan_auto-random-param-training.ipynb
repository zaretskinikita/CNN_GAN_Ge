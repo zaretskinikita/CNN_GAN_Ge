{
 "cells": [
  {
   "cell_type": "markdown",
   "metadata": {},
   "source": [
    "# WGAN-autoencoder\n",
    "We use the adversarial autoencoder (https://arxiv.org/pdf/1511.05644.pdf) to encode data, the Wasserstein-GAN (https://arxiv.org/pdf/1704.00028v3.pdf) works in the new (encoded) space.\n",
    "The generator model generates samples from latent space to the encoded space, the discriminator model distinguishes real and fake samples in the encoded space. The decoding is used after generation in order to represent samples from the encoded space to the initial space."
   ]
  },
  {
   "cell_type": "code",
   "execution_count": 6,
   "metadata": {},
   "outputs": [],
   "source": [
    "from collections import OrderedDict\n",
    "import numpy as np\n",
    "import seaborn as sns\n",
    "import matplotlib.pyplot as plt\n",
    "\n",
    "from sklearn import model_selection\n",
    "from sklearn import metrics\n",
    "import torch\n",
    "import torch.nn as nn\n",
    "import torch.optim as optim\n",
    "from torch.utils.data import Dataset, DataLoader\n",
    "import time\n",
    "from sklearn.utils import shuffle\n",
    "from sklearn.preprocessing import StandardScaler    \n",
    "from sklearn.model_selection import train_test_split\n",
    "from sklearn.metrics import confusion_matrix, classification_report\n",
    "from sklearn.metrics import auc\n",
    "from sklearn.utils import shuffle\n",
    "import matplotlib\n",
    "import torch.autograd as autograd\n",
    "import random\n",
    "import torch.autograd as autograd\n",
    "from xgboost import XGBClassifier\n",
    "from sklearn.model_selection import cross_val_score, KFold\n",
    "import sklearn.metrics\n",
    "import h5py\n",
    "import torch.nn.functional as F\n",
    "from sklearn.preprocessing import StandardScaler\n",
    "\n",
    "import torch.distributions.multivariate_normal as mn\n",
    "import math\n",
    "import pickle\n",
    "\n",
    "\n",
    "import torch.autograd as autograd\n",
    "from sklearn.preprocessing import StandardScaler\n",
    "\n",
    "from scipy.stats import multivariate_normal\n",
    "from sklearn.covariance import LedoitWolf\n",
    "\n",
    "random_seed = 99\n",
    "torch.manual_seed(random_seed)\n",
    "DEVICE = torch.device('mps' if torch.backends.mps.is_available() else \"cpu\")"
   ]
  },
  {
   "cell_type": "code",
   "execution_count": 7,
   "metadata": {},
   "outputs": [],
   "source": [
    "batch_size = 128\n",
    "lr = 1e-4 # learning rate\n",
    "seq_len = 5000 # initial space\n",
    "emb_dim = seq_len // 16 # encoded space\n",
    "random_dim = 32  # latent space for the generator model\n",
    "epochs_autoen = 50 #epochs to train autoencoder\n",
    "ITERS = 1000 # iterations to train WGAN\n",
    "CRITIC_ITERS = 5\n",
    "LAMBDA = 10 # penalty"
   ]
  },
  {
   "cell_type": "markdown",
   "metadata": {},
   "source": [
    "## 1. Preprocessing"
   ]
  },
  {
   "cell_type": "code",
   "execution_count": 3,
   "metadata": {},
   "outputs": [],
   "source": [
    "pulses = pickle.load(open('/Users/nzaretski/Desktop/gerda/CNN_GAN_Ge/data/raw/data.pkl','rb'))\n",
    "pulses = pulses.astype(float)"
   ]
  },
  {
   "cell_type": "code",
   "execution_count": 4,
   "metadata": {},
   "outputs": [
    {
     "data": {
      "image/png": "[encoded data removed]",
      "text/plain": [
       "<Figure size 432x288 with 1 Axes>"
      ]
     },
     "metadata": {
      "needs_background": "light"
     },
     "output_type": "display_data"
    }
   ],
   "source": [
    "plt.hist(np.max(pulses, axis = 1) - np.min(pulses, axis = 1), bins = 50, density=True)\n",
    "plt.title('Charge amplitude after cuts')\n",
    "plt.ylabel('a.u.')\n",
    "plt.show()"
   ]
  },
  {
   "cell_type": "code",
   "execution_count": 5,
   "metadata": {},
   "outputs": [
    {
     "data": {
      "text/plain": [
       "Text(0, 0.5, 'a.u.')"
      ]
     },
     "execution_count": 5,
     "metadata": {},
     "output_type": "execute_result"
    },
    {
     "data": {
      "image/png": "[encoded data removed]",
      "text/plain": [
       "<Figure size 432x288 with 1 Axes>"
      ]
     },
     "metadata": {
      "needs_background": "light"
     },
     "output_type": "display_data"
    }
   ],
   "source": [
    "plt.plot(pulses[1])\n",
    "plt.title('Pulse shape')\n",
    "plt.xlabel('time')\n",
    "plt.ylabel('a.u.')"
   ]
  },
  {
   "cell_type": "code",
   "execution_count": 3,
   "metadata": {},
   "outputs": [],
   "source": [
    "scaler = StandardScaler()\n",
    "pulses = scaler.fit_transform(pulses)\n",
    "\n",
    "\n",
    "pickle.dump(scaler, open('scaler.pkl','wb'))"
   ]
  },
  {
   "cell_type": "code",
   "execution_count": 4,
   "metadata": {},
   "outputs": [],
   "source": [
    "train_data_length = pulses.shape[0]\n",
    "train_data = torch.zeros((train_data_length, 3748))\n",
    "train_data = torch.tensor(pulses, dtype=torch.float)\n",
    "train_labels = torch.zeros(train_data_length, 1)\n",
    "\n",
    "train_set = [\n",
    "    (train_data[i], train_labels[i]) for i in range(train_data_length)\n",
    "]"
   ]
  },
  {
   "cell_type": "code",
   "execution_count": 6,
   "metadata": {},
   "outputs": [],
   "source": [
    "train_loader = torch.utils.data.DataLoader(\n",
    "    train_set, batch_size=batch_size, shuffle=True, drop_last=True\n",
    ")"
   ]
  },
  {
   "cell_type": "markdown",
   "metadata": {},
   "source": [
    "## 1. Models"
   ]
  },
  {
   "cell_type": "code",
   "execution_count": 9,
   "metadata": {},
   "outputs": [],
   "source": [
    "class Encoder(nn.Module):\n",
    "    def __init__(self, seq_len, emb_dim):\n",
    "        super(Encoder, self).__init__()\n",
    "        self.seq_len = seq_len\n",
    "        self.emb_dim = emb_dim\n",
    "        self.model = nn.Sequential(            \n",
    "            nn.Conv1d(self.seq_len, self.seq_len // 2, 1,  bias=False),\n",
    "            nn.LeakyReLU(0.2, inplace=True),\n",
    "\n",
    "            nn.Conv1d(self.seq_len // 2, self.seq_len // 4, 1, bias=False),\n",
    "            nn.BatchNorm1d(self.seq_len // 4),\n",
    "            nn.LeakyReLU(0.2, inplace=True),\n",
    "\n",
    "            nn.Conv1d(self.seq_len // 4, self.seq_len // 8, 1, bias=False),\n",
    "            nn.BatchNorm1d(self.seq_len // 8),\n",
    "            nn.LeakyReLU(0.2, inplace=True),\n",
    "\n",
    "            nn.Conv1d(self.seq_len // 8, self.emb_dim, 1, bias=False),\n",
    "        )\n",
    "\n",
    "    def forward(self, x):\n",
    "        x = x.unsqueeze(-1)\n",
    "        output = self.model(x)\n",
    "        return output.squeeze(-1)"
   ]
  },
  {
   "cell_type": "code",
   "execution_count": 10,
   "metadata": {},
   "outputs": [],
   "source": [
    "class Decoder(nn.Module):\n",
    "    def __init__(self, seq_len, emb_dim):\n",
    "        super(Decoder, self).__init__()\n",
    "        self.seq_len = seq_len\n",
    "        self.emb_dim = emb_dim\n",
    "        self.model = nn.Sequential(\n",
    "            nn.ConvTranspose1d(self.emb_dim, self.seq_len // 8, 1, bias=False),\n",
    "            nn.BatchNorm1d(self.seq_len // 8),\n",
    "            nn.ReLU(True),\n",
    "\n",
    "            nn.ConvTranspose1d(self.seq_len // 8, self.seq_len // 4, 1, bias=False),\n",
    "            nn.BatchNorm1d(self.seq_len // 4),\n",
    "            nn.ReLU(True),\n",
    "\n",
    "            nn.ConvTranspose1d(self.seq_len // 4, self.seq_len // 2, 1, bias=False),\n",
    "            nn.BatchNorm1d(self.seq_len // 2),\n",
    "            nn.ReLU(True),\n",
    "\n",
    "            nn.ConvTranspose1d(self.seq_len // 2, self.seq_len, 1, bias=False),\n",
    "      )\n",
    "    def forward(self, z):\n",
    "        z = z.unsqueeze(-1)\n",
    "        output = self.model(z)\n",
    "        return output.squeeze(-1)"
   ]
  },
  {
   "cell_type": "code",
   "execution_count": 11,
   "metadata": {},
   "outputs": [],
   "source": [
    "class Discriminator(nn.Module):   \n",
    "    def __init__(self, emb_dim):\n",
    "        super(Discriminator, self).__init__()\n",
    "        self.emb_dim = emb_dim\n",
    "        self.model = nn.Sequential(            \n",
    "            nn.Conv1d(self.emb_dim, self.emb_dim // 2, 1,  bias=False),\n",
    "            nn.LeakyReLU(0.2, inplace=True),\n",
    "\n",
    "            nn.Conv1d(self.emb_dim // 2, self.emb_dim // 4, 1, bias=False),\n",
    "            nn.BatchNorm1d(self.emb_dim // 4),\n",
    "            nn.LeakyReLU(0.2, inplace=True),\n",
    "\n",
    "            nn.Conv1d(self.emb_dim // 4, self.emb_dim // 8, 1, bias=False),\n",
    "            nn.BatchNorm1d(self.emb_dim // 8),\n",
    "            nn.LeakyReLU(0.2, inplace=True),\n",
    "            \n",
    "            nn.Conv1d(self.emb_dim // 8, self.emb_dim // 16, 1, bias=False),\n",
    "            nn.BatchNorm1d(self.emb_dim // 16),\n",
    "            nn.LeakyReLU(0.2, inplace=True),\n",
    "\n",
    "            nn.Conv1d(self.emb_dim // 16, 1, 1, bias=False),\n",
    "        )\n",
    "\n",
    "    def forward(self, x):\n",
    "        x = x.unsqueeze(-1)\n",
    "        output = self.model(x)\n",
    "        return output.squeeze(-1)"
   ]
  },
  {
   "cell_type": "code",
   "execution_count": 12,
   "metadata": {},
   "outputs": [],
   "source": [
    "class Generator(nn.Module):\n",
    "    def __init__(self, emb_dim, random_dim):\n",
    "        super(Generator, self).__init__()\n",
    "        self.emb_dim = emb_dim\n",
    "        self.random_dim = random_dim\n",
    "        self.model = nn.Sequential(\n",
    "            nn.ConvTranspose1d(self.random_dim, self.emb_dim // 8, 1, bias=False),\n",
    "            nn.BatchNorm1d(self.emb_dim // 8),\n",
    "            nn.ReLU(True),\n",
    "\n",
    "            nn.ConvTranspose1d(self.emb_dim // 8, self.emb_dim // 4, 1, bias=False),\n",
    "            nn.BatchNorm1d(self.emb_dim // 4),\n",
    "            nn.ReLU(True),\n",
    "\n",
    "            nn.ConvTranspose1d(self.emb_dim // 4, self.emb_dim // 2, 1, bias=False),\n",
    "            nn.BatchNorm1d(self.emb_dim // 2),\n",
    "            nn.ReLU(True),\n",
    "\n",
    "            nn.ConvTranspose1d(self.emb_dim // 2, self.emb_dim, 1, bias=False),\n",
    "      )\n",
    "    def forward(self, z):\n",
    "        z = z.unsqueeze(-1)\n",
    "        output = self.model(z)\n",
    "        return output.squeeze(-1)"
   ]
  },
  {
   "cell_type": "code",
   "execution_count": null,
   "metadata": {},
   "outputs": [],
   "source": [
    "class PriorDiscriminator(nn.Module):\n",
    "    def __init__(self, emb_dim):\n",
    "        super().__init__()\n",
    "        self.emb_dim = emb_dim\n",
    "        self.l0 = nn.Linear(self.emb_dim, 64)\n",
    "        self.l1 = nn.Linear(64, 64//4)\n",
    "        self.l2 = nn.Linear(64//4, 1)\n",
    "        \n",
    "    def forward(self, x):\n",
    "        h = F.leaky_relu(self.l0(x))\n",
    "        h = F.leaky_relu(self.l1(h))\n",
    "        return torch.sigmoid(self.l2(h))"
   ]
  },
  {
   "cell_type": "markdown",
   "metadata": {},
   "source": [
    "# Adversarial Autoencoder"
   ]
  },
  {
   "cell_type": "code",
   "execution_count": 15,
   "metadata": {},
   "outputs": [
    {
     "name": "stdout",
     "output_type": "stream",
     "text": [
      "mps\n"
     ]
    }
   ],
   "source": [
    "DEVICE = torch.device(\"mps\" if torch.backends.mps.is_available() else \"cpu\")\n",
    "print(DEVICE)"
   ]
  },
  {
   "cell_type": "code",
   "execution_count": 16,
   "metadata": {},
   "outputs": [],
   "source": [
    "encoder = Encoder(seq_len, emb_dim).to(DEVICE)\n",
    "decoder = Decoder(seq_len, emb_dim).to(DEVICE)\n",
    "disc = PriorDiscriminator(emb_dim).to(DEVICE)\n",
    "recon_loss = nn.MSELoss(reduction = 'sum').to(DEVICE)"
   ]
  },
  {
   "cell_type": "code",
   "execution_count": 17,
   "metadata": {},
   "outputs": [],
   "source": [
    "optim_encoder = torch.optim.Adam(encoder.parameters(), lr=1e-3)\n",
    "optim_decoder = torch.optim.Adam(decoder.parameters(), lr=1e-3)\n",
    "\n",
    "optim_encoder_reg = torch.optim.Adam(encoder.parameters(), lr=1e-3)\n",
    "optim_D = torch.optim.Adam(disc.parameters(), lr=1e-3)"
   ]
  },
  {
   "cell_type": "code",
   "execution_count": 18,
   "metadata": {
    "scrolled": true
   },
   "outputs": [
    {
     "name": "stdout",
     "output_type": "stream",
     "text": [
      "Train Epoch: 0 [0/2619 (0%)]\tLoss: 421223.750000\n",
      "---1 epoch: 7.9569621086120605 seconds ---\n",
      "Train Epoch: 1 [0/2619 (0%)]\tLoss: 85412.984375\n",
      "Train Epoch: 2 [0/2619 (0%)]\tLoss: 39490.460938\n",
      "Train Epoch: 3 [0/2619 (0%)]\tLoss: 566718.875000\n",
      "Train Epoch: 4 [0/2619 (0%)]\tLoss: 45363.007812\n",
      "Train Epoch: 5 [0/2619 (0%)]\tLoss: 690080.500000\n",
      "Train Epoch: 6 [0/2619 (0%)]\tLoss: 157920.437500\n",
      "Train Epoch: 7 [0/2619 (0%)]\tLoss: 185461.437500\n",
      "Train Epoch: 8 [0/2619 (0%)]\tLoss: 216336.531250\n",
      "Train Epoch: 9 [0/2619 (0%)]\tLoss: 105601.335938\n",
      "Train Epoch: 10 [0/2619 (0%)]\tLoss: 112241.765625\n",
      "Train Epoch: 11 [0/2619 (0%)]\tLoss: 45333.875000\n",
      "Train Epoch: 12 [0/2619 (0%)]\tLoss: 336828.375000\n",
      "Train Epoch: 13 [0/2619 (0%)]\tLoss: 75200.804688\n",
      "Train Epoch: 14 [0/2619 (0%)]\tLoss: 40337.019531\n",
      "Train Epoch: 15 [0/2619 (0%)]\tLoss: 20383.886719\n",
      "Train Epoch: 16 [0/2619 (0%)]\tLoss: 43948.414062\n",
      "Train Epoch: 17 [0/2619 (0%)]\tLoss: 46300.917969\n",
      "Train Epoch: 18 [0/2619 (0%)]\tLoss: 33666.988281\n",
      "Train Epoch: 19 [0/2619 (0%)]\tLoss: 147051.875000\n",
      "Train Epoch: 20 [0/2619 (0%)]\tLoss: 60160.351562\n",
      "Train Epoch: 21 [0/2619 (0%)]\tLoss: 22685.082031\n",
      "Train Epoch: 22 [0/2619 (0%)]\tLoss: 298803.656250\n",
      "Train Epoch: 23 [0/2619 (0%)]\tLoss: 33462.699219\n",
      "Train Epoch: 24 [0/2619 (0%)]\tLoss: 34614.734375\n",
      "Train Epoch: 25 [0/2619 (0%)]\tLoss: 45939.257812\n",
      "Train Epoch: 26 [0/2619 (0%)]\tLoss: 101128.546875\n",
      "Train Epoch: 27 [0/2619 (0%)]\tLoss: 39815.585938\n",
      "Train Epoch: 28 [0/2619 (0%)]\tLoss: 27351.980469\n",
      "Train Epoch: 29 [0/2619 (0%)]\tLoss: 24861.367188\n",
      "Train Epoch: 30 [0/2619 (0%)]\tLoss: 31955.537109\n",
      "Train Epoch: 31 [0/2619 (0%)]\tLoss: 52140.210938\n",
      "Train Epoch: 32 [0/2619 (0%)]\tLoss: 33079.058594\n",
      "Train Epoch: 33 [0/2619 (0%)]\tLoss: 45100.027344\n",
      "Train Epoch: 34 [0/2619 (0%)]\tLoss: 16336.960938\n",
      "Train Epoch: 35 [0/2619 (0%)]\tLoss: 10166.500000\n",
      "Train Epoch: 36 [0/2619 (0%)]\tLoss: 34656.531250\n",
      "Train Epoch: 37 [0/2619 (0%)]\tLoss: 19648.794922\n",
      "Train Epoch: 38 [0/2619 (0%)]\tLoss: 107440.875000\n",
      "Train Epoch: 39 [0/2619 (0%)]\tLoss: 165078.968750\n",
      "Train Epoch: 40 [0/2619 (0%)]\tLoss: 76747.218750\n",
      "Train Epoch: 41 [0/2619 (0%)]\tLoss: 39173.468750\n",
      "Train Epoch: 42 [0/2619 (0%)]\tLoss: 31422.080078\n",
      "Train Epoch: 43 [0/2619 (0%)]\tLoss: 38283.523438\n",
      "Train Epoch: 44 [0/2619 (0%)]\tLoss: 94961.281250\n",
      "Train Epoch: 45 [0/2619 (0%)]\tLoss: 17796.570312\n",
      "Train Epoch: 46 [0/2619 (0%)]\tLoss: 27663.169922\n",
      "Train Epoch: 47 [0/2619 (0%)]\tLoss: 26307.531250\n",
      "Train Epoch: 48 [0/2619 (0%)]\tLoss: 137000.343750\n",
      "Train Epoch: 49 [0/2619 (0%)]\tLoss: 118807.570312\n"
     ]
    }
   ],
   "source": [
    "loss_ep = []\n",
    "losses = []\n",
    "start_time = time.time()\n",
    "one = torch.FloatTensor([1])\n",
    "mone = one * -1\n",
    "one = one.to(DEVICE)\n",
    "mone = mone.to(DEVICE)\n",
    "for epoch in range(epochs_autoen):\n",
    "    for i, (x, y) in enumerate(train_loader):\n",
    "        \n",
    "        x = x.to(DEVICE)\n",
    "        y = y.to(DEVICE)\n",
    "        batch = x.size(0)\n",
    "        \n",
    "        encoder.train()\n",
    "        decoder.train()\n",
    "        disc.train()\n",
    "        \n",
    "        encoder.zero_grad()\n",
    "        decoder.zero_grad()\n",
    "        disc.zero_grad()\n",
    "        \n",
    "        #Reconstruction phase\n",
    "        z = encoder(x)\n",
    "        x_hat = decoder(z)\n",
    "        loss = recon_loss(x_hat,x)\n",
    "        loss.backward()\n",
    "        optim_encoder.step()\n",
    "        optim_decoder.step()\n",
    "\n",
    "        #Discriminator phase\n",
    "        encoder.zero_grad()\n",
    "        decoder.zero_grad()\n",
    "        disc.zero_grad()\n",
    "        encoder.eval()\n",
    "        \n",
    "        z_real_gauss = autograd.Variable(torch.randn(z.size())*1).to(DEVICE)\n",
    "        z_fake_gauss = encoder(x)\n",
    "        \n",
    "        D_real_gauss, D_fake_gauss = disc(z_real_gauss), disc(z_fake_gauss.detach())\n",
    "        \n",
    "        real_outputs = D_real_gauss.mean(dim=0)\n",
    "        real_outputs.backward(mone)\n",
    "        fake_outputs = D_fake_gauss.mean(dim=0)\n",
    "        fake_outputs.backward(one)\n",
    "        optim_D.step()\n",
    "        \n",
    "        #Regularization phase\n",
    "        encoder.zero_grad()\n",
    "        decoder.zero_grad()\n",
    "        disc.zero_grad()\n",
    "\n",
    "        encoder.train()\n",
    "        z = encoder(x)\n",
    "        D_fake_gauss = disc(z)\n",
    "        fake_outputs = D_fake_gauss.mean(dim=0)\n",
    "        fake_outputs.backward(mone)\n",
    "        optim_encoder_reg.step()\n",
    "        \n",
    "        if i % 20 == 0:\n",
    "            print('Train Epoch: {} [{}/{} ({:.0f}%)]\\tLoss: {:.6f}'.format(\n",
    "                epoch, i * len(x), len(train_loader.dataset),\n",
    "                100. * i / len(train_loader), loss.item()))\n",
    "            \n",
    "        if (i == len(train_loader) - 1): # per epoch \n",
    "            loss_ep.append(loss.item())        \n",
    "        \n",
    "        losses.append(loss.item())        \n",
    "\n",
    "\n",
    "    if epoch == 0:\n",
    "        print(\"---1 epoch: %s seconds ---\" % (time.time() - start_time))"
   ]
  },
  {
   "cell_type": "code",
   "execution_count": 37,
   "metadata": {},
   "outputs": [],
   "source": [
    "torch.save(decoder.state_dict(), 'wgan_auto_decoder.pth')"
   ]
  },
  {
   "cell_type": "code",
   "execution_count": 19,
   "metadata": {},
   "outputs": [
    {
     "data": {
      "image/png": "[encoded data removed]",
      "text/plain": [
       "<Figure size 432x288 with 1 Axes>"
      ]
     },
     "metadata": {
      "needs_background": "light"
     },
     "output_type": "display_data"
    }
   ],
   "source": [
    "fig = plt.figure()\n",
    "plt.plot(losses, '.')\n",
    "plt.xlabel('Iterations')\n",
    "plt.ylabel('Loss')\n",
    "plt.title(\"Autoencoder\")\n",
    "fig.savefig('Auto_losses.png')"
   ]
  },
  {
   "cell_type": "markdown",
   "metadata": {},
   "source": [
    "# WGAN"
   ]
  },
  {
   "cell_type": "code",
   "execution_count": 22,
   "metadata": {},
   "outputs": [],
   "source": [
    "netD = Discriminator(emb_dim).to(DEVICE)\n",
    "netG = Generator(emb_dim, random_dim).to(DEVICE)"
   ]
  },
  {
   "cell_type": "code",
   "execution_count": 23,
   "metadata": {},
   "outputs": [],
   "source": [
    "optimizerD = torch.optim.Adam(netD.parameters(), lr=lr)\n",
    "optimizerG = torch.optim.Adam(netG.parameters(), lr=lr)\n",
    "loss_G=[]\n",
    "loss_D=[]\n",
    "epochs = []\n",
    "\n",
    "one = torch.tensor(1, dtype=torch.float)\n",
    "mone = one * -1\n",
    "one = one.to(DEVICE)\n",
    "mone = mone.to(DEVICE)"
   ]
  },
  {
   "cell_type": "code",
   "execution_count": 24,
   "metadata": {},
   "outputs": [],
   "source": [
    "def inf_train_gen():\n",
    "    while True:\n",
    "        for images,targets in train_loader:\n",
    "            yield images"
   ]
  },
  {
   "cell_type": "code",
   "execution_count": 25,
   "metadata": {},
   "outputs": [],
   "source": [
    "def calc_gradient_penalty(netD, real_data, fake_data):\n",
    "    #print real_data.size()\n",
    "    alpha = torch.rand(batch_size, 1)\n",
    "    alpha = alpha.expand(real_data.size())\n",
    "    alpha = alpha.to(DEVICE)\n",
    "\n",
    "    interpolates = alpha * real_data + ((1 - alpha) * fake_data)\n",
    "\n",
    "    interpolates = interpolates.to(DEVICE)\n",
    "    interpolates = autograd.Variable(interpolates, requires_grad=True)\n",
    "\n",
    "    disc_interpolates = netD(interpolates)\n",
    "\n",
    "    gradients = autograd.grad(outputs=disc_interpolates, inputs=interpolates,\n",
    "                              grad_outputs=torch.ones(disc_interpolates.size()).to(DEVICE),\n",
    "                              create_graph=True, retain_graph=True, only_inputs=True)[0]\n",
    "\n",
    "    gradient_penalty = ((gradients.norm(2, dim=1) - 1) ** 2).mean() * LAMBDA\n",
    "    return gradient_penalty"
   ]
  },
  {
   "cell_type": "code",
   "execution_count": 26,
   "metadata": {
    "scrolled": true
   },
   "outputs": [
    {
     "name": "stdout",
     "output_type": "stream",
     "text": [
      "0.08299410343170166 3.046058177947998\n",
      "0.09135700762271881 2.1436538696289062\n",
      "0.06608212739229202 4.514854431152344\n",
      "0.04812612012028694 5.013648986816406\n",
      "0.016852665692567825 6.229224681854248\n",
      "0.01069396361708641 5.249382972717285\n",
      "0.01669703982770443 7.214844703674316\n",
      "0.017248213291168213 6.6607232093811035\n",
      "0.02947184443473816 5.860902786254883\n",
      "0.04709556698799133 6.274649620056152\n",
      "0.03970951586961746 6.8524861335754395\n",
      "0.01894143596291542 5.7188544273376465\n",
      "0.022896038368344307 5.5374321937561035\n",
      "0.032883889973163605 7.333178997039795\n",
      "-0.03841786831617355 7.37493896484375\n",
      "0.05699250474572182 5.738504409790039\n",
      "0.06154529005289078 6.0540924072265625\n",
      "0.043490294367074966 6.439740180969238\n",
      "0.10845838487148285 7.153253555297852\n",
      "0.06328199058771133 5.948266983032227\n"
     ]
    }
   ],
   "source": [
    "netD = netD.to(DEVICE)\n",
    "netG = netG.to(DEVICE)\n",
    "data = inf_train_gen()\n",
    "for iteration in range(ITERS):\n",
    "    epochs.append(iteration)\n",
    "    start_time = time.time()\n",
    "    # (1) Update D network\n",
    "    for p in netD.parameters():\n",
    "        p.requires_grad = True\n",
    "\n",
    "    for iter_d in range(CRITIC_ITERS):\n",
    "        _data = next(data)\n",
    "        _data = _data.to(DEVICE)\n",
    "        _data = encoder(_data).detach()\n",
    "        real_data = torch.Tensor(_data)\n",
    "        real_data = real_data.to(DEVICE)\n",
    "        real_data_v = autograd.Variable(real_data).to(DEVICE)\n",
    "\n",
    "        netD.zero_grad()\n",
    "\n",
    "        # train with real\n",
    "        D_real = netD(real_data_v)\n",
    "        D_real = D_real.mean()\n",
    "        # print D_real\n",
    "        D_real.backward(mone)\n",
    "\n",
    "        # train with fake\n",
    "        noise = torch.randn(batch_size, random_dim).to(DEVICE)\n",
    "        fake = netG(noise).detach()\n",
    "        inputv = fake\n",
    "        D_fake = netD(inputv)\n",
    "        D_fake = D_fake.mean()\n",
    "        D_fake.backward(one)\n",
    "\n",
    "        # train with gradient penalty\n",
    "        gradient_penalty = calc_gradient_penalty(netD, real_data_v.data, fake.data)\n",
    "        gradient_penalty.backward()\n",
    "\n",
    "        D_cost = D_fake - D_real + gradient_penalty\n",
    "        Wasserstein_D = D_real - D_fake\n",
    "        optimizerD.step()\n",
    "        \n",
    "    loss_D.append(D_cost.item())\n",
    "\n",
    "    # (2) Update G network\n",
    "    for p in netD.parameters():\n",
    "        p.requires_grad = False  # to avoid computation\n",
    "    netG.zero_grad()\n",
    "\n",
    "    _data = next(data)\n",
    "    noise = torch.randn(batch_size, random_dim).to(DEVICE)\n",
    "    noisev = autograd.Variable(noise).to(DEVICE)\n",
    "    fake = netG(noisev)\n",
    "    G = netD(fake)\n",
    "    G = G.mean()\n",
    "    G.backward(mone)\n",
    "    G_cost = -G\n",
    "    loss_G.append(G_cost.item())\n",
    "    optimizerG.step()\n",
    "    if iteration % 50 == 0:\n",
    "        print(G_cost.item(), D_cost.item())"
   ]
  },
  {
   "cell_type": "code",
   "execution_count": 27,
   "metadata": {
    "scrolled": true
   },
   "outputs": [
    {
     "data": {
      "image/png": "[encoded data removed]",
      "text/plain": [
       "<Figure size 432x288 with 1 Axes>"
      ]
     },
     "metadata": {
      "needs_background": "light"
     },
     "output_type": "display_data"
    }
   ],
   "source": [
    "fig = plt.figure()\n",
    "plt.plot(loss_G, '.', label='generator')\n",
    "plt.plot(loss_D, '.',  label='discriminator')\n",
    "plt.title('Loss functions')\n",
    "plt.xlabel('Epochs')\n",
    "plt.ylabel('Loss')\n",
    "plt.legend()\n",
    "fig.savefig('losses.png')"
   ]
  },
  {
   "cell_type": "code",
   "execution_count": 28,
   "metadata": {},
   "outputs": [],
   "source": [
    "torch.save(netG.state_dict(), 'wgan_auto.pth')"
   ]
  },
  {
   "cell_type": "markdown",
   "metadata": {},
   "source": [
    "## Check"
   ]
  },
  {
   "cell_type": "code",
   "execution_count": 29,
   "metadata": {},
   "outputs": [],
   "source": [
    "x = torch.randn(10, random_dim).to(DEVICE)"
   ]
  },
  {
   "cell_type": "code",
   "execution_count": 30,
   "metadata": {},
   "outputs": [],
   "source": [
    "noise = netG(x)"
   ]
  },
  {
   "cell_type": "code",
   "execution_count": 31,
   "metadata": {},
   "outputs": [],
   "source": [
    "a = decoder(noise).cpu().detach().numpy()"
   ]
  },
  {
   "cell_type": "code",
   "execution_count": 32,
   "metadata": {},
   "outputs": [],
   "source": [
    "a = scaler.inverse_transform(a)"
   ]
  },
  {
   "cell_type": "code",
   "execution_count": 35,
   "metadata": {},
   "outputs": [
    {
     "data": {
      "text/plain": [
       "[<matplotlib.lines.Line2D at 0x300cc6910>]"
      ]
     },
     "execution_count": 35,
     "metadata": {},
     "output_type": "execute_result"
    },
    {
     "data": {
      "image/png": "[encoded data removed]",
      "text/plain": [
       "<Figure size 432x288 with 1 Axes>"
      ]
     },
     "metadata": {
      "needs_background": "light"
     },
     "output_type": "display_data"
    }
   ],
   "source": [
    "plt.plot(a[2])"
   ]
  },
  {
   "cell_type": "code",
   "execution_count": 36,
   "metadata": {},
   "outputs": [
    {
     "data": {
      "text/plain": [
       "array([10.178711,  8.037109,  9.50293 , ..., 15.171875, 18.125977,\n",
       "       15.625   ], dtype=float32)"
      ]
     },
     "execution_count": 36,
     "metadata": {},
     "output_type": "execute_result"
    }
   ],
   "source": [
    "a[0] - a[1]"
   ]
  },
  {
   "cell_type": "code",
   "execution_count": null,
   "metadata": {},
   "outputs": [],
   "source": []
  }
 ],
 "metadata": {
  "kernelspec": {
   "display_name": "Python 3 (ipykernel)",
   "language": "python",
   "name": "python3"
  },
  "language_info": {
   "codemirror_mode": {
    "name": "ipython",
    "version": 3
   },
   "file_extension": ".py",
   "mimetype": "text/x-python",
   "name": "python",
   "nbconvert_exporter": "python",
   "pygments_lexer": "ipython3",
   "version": "3.8.16"
  }
 },
 "nbformat": 4,
 "nbformat_minor": 4
}
