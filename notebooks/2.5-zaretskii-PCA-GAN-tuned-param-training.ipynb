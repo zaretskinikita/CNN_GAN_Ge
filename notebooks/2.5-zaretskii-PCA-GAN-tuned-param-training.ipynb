{
 "cells": [
  {
   "cell_type": "markdown",
   "metadata": {},
   "source": [
    "# PCA-GAN (after optimization)\n",
    "We use CNN-GAN, the PCA is applied to  data.\n",
    "The generator model generates samples from latent space to the PCA-space, the discriminator model distinguishes real and fake samples in the PCA-space. The inverse PCA transformation is used after generation in order to represent samples from the PCA-space to the initial space."
   ]
  },
  {
   "cell_type": "code",
   "execution_count": 2,
   "metadata": {},
   "outputs": [],
   "source": [
    "import pandas as pd\n",
    "import numpy as np\n",
    "import seaborn as sns\n",
    "import matplotlib.pyplot as plt\n",
    "import torch\n",
    "import torch.nn as nn\n",
    "import torch.optim as optim\n",
    "from torch.utils.data import Dataset, DataLoader\n",
    "import time\n",
    "from sklearn.utils import shuffle\n",
    "from sklearn.preprocessing import StandardScaler    \n",
    "import random\n",
    "import torch.autograd as autograd\n",
    "import torch.nn.functional as F\n",
    "\n",
    "import torch.autograd as autograd\n",
    "import pickle\n",
    "from sklearn.decomposition import PCA\n",
    "from sklearn.preprocessing import StandardScaler\n",
    "\n",
    "random_seed = 0\n",
    "torch.manual_seed(random_seed)\n",
    "random.seed(random_seed)\n",
    "DEVICE = torch.device('cpu')"
   ]
  },
  {
   "cell_type": "code",
   "execution_count": 3,
   "metadata": {},
   "outputs": [
    {
     "name": "stdout",
     "output_type": "stream",
     "text": [
      "{'epochs': 119, 'lr': 0.03453234251828275, 'optimizers': 3}\n"
     ]
    }
   ],
   "source": [
    "params = pickle.load(open('best_parameters.pkl', 'rb'))\n",
    "print(params)"
   ]
  },
  {
   "cell_type": "code",
   "execution_count": 4,
   "metadata": {},
   "outputs": [
    {
     "name": "stdout",
     "output_type": "stream",
     "text": [
      "{'seq_len': 94, 'random_dim': 23}\n"
     ]
    }
   ],
   "source": [
    "params_model = pickle.load(open('best_model_parameters.pkl', 'rb'))\n",
    "print(params_model)"
   ]
  },
  {
   "cell_type": "code",
   "execution_count": 5,
   "metadata": {},
   "outputs": [],
   "source": [
    "params.update(params_model)"
   ]
  },
  {
   "cell_type": "code",
   "execution_count": 6,
   "metadata": {},
   "outputs": [
    {
     "name": "stdout",
     "output_type": "stream",
     "text": [
      "{'epochs': 119, 'lr': 0.03453234251828275, 'optimizers': 3, 'seq_len': 94, 'random_dim': 23}\n"
     ]
    }
   ],
   "source": [
    "print(params)"
   ]
  },
  {
   "cell_type": "code",
   "execution_count": 8,
   "metadata": {},
   "outputs": [],
   "source": [
    "seq_len = params.get('seq_len')# dimensionality of the PCA-space\n",
    "random_dim = params.get('random_dim')# the latent space dimensionality\n",
    "lr = params.get('lr')# learning rate\n",
    "epochs = params.get('epochs')\n",
    "batch_size = 128"
   ]
  },
  {
   "cell_type": "markdown",
   "metadata": {},
   "source": [
    "## 1. Preprocessing"
   ]
  },
  {
   "cell_type": "code",
   "execution_count": 6,
   "metadata": {},
   "outputs": [],
   "source": [
    "pulses = pickle.load(open('/Users/nzaretski/Desktop/gerda/CNN_GAN_Ge/data/raw/data.pkl','rb'))\n",
    "pulses = pulses.astype(float)"
   ]
  },
  {
   "cell_type": "code",
   "execution_count": 7,
   "metadata": {},
   "outputs": [
    {
     "data": {
      "image/png": "[encoded data removed]",
      "text/plain": [
       "<Figure size 432x288 with 1 Axes>"
      ]
     },
     "metadata": {
      "needs_background": "light"
     },
     "output_type": "display_data"
    }
   ],
   "source": [
    "plt.hist(np.max(pulses, axis = 1) - np.min(pulses, axis = 1), bins = 50, density=True)\n",
    "plt.title('Charge amplitude after cuts')\n",
    "plt.ylabel('a.u.')\n",
    "plt.show()"
   ]
  },
  {
   "cell_type": "code",
   "execution_count": 8,
   "metadata": {},
   "outputs": [
    {
     "name": "stdout",
     "output_type": "stream",
     "text": [
      "(2619, 5000)\n"
     ]
    }
   ],
   "source": [
    "print(pulses.shape)"
   ]
  },
  {
   "cell_type": "code",
   "execution_count": 9,
   "metadata": {},
   "outputs": [
    {
     "data": {
      "text/plain": [
       "Text(0, 0.5, 'a.u.')"
      ]
     },
     "execution_count": 9,
     "metadata": {},
     "output_type": "execute_result"
    },
    {
     "data": {
      "image/png": "[encoded data removed]",
      "text/plain": [
       "<Figure size 432x288 with 1 Axes>"
      ]
     },
     "metadata": {
      "needs_background": "light"
     },
     "output_type": "display_data"
    }
   ],
   "source": [
    "plt.plot(pulses[1])\n",
    "plt.title('Pulse shape')\n",
    "plt.xlabel('time')\n",
    "plt.ylabel('a.u.')"
   ]
  },
  {
   "cell_type": "code",
   "execution_count": 10,
   "metadata": {},
   "outputs": [],
   "source": [
    "scaler = StandardScaler()\n",
    "pulses = scaler.fit_transform(pulses) \n",
    "\n",
    "pulses = PCA(n_components=params['seq_len'])\n",
    "pulses = pca.fit_transform(pulses)"
   ]
  },
  {
   "cell_type": "code",
   "execution_count": 11,
   "metadata": {},
   "outputs": [],
   "source": [
    "pickle.dump(scaler, open('scaler_pca.pkl','wb'))\n",
    "pickle.dump(pca, open('pca_pca.pkl','wb'))"
   ]
  },
  {
   "cell_type": "code",
   "execution_count": 12,
   "metadata": {},
   "outputs": [],
   "source": [
    "train_data_length = pulses.shape[0]\n",
    "train_data = torch.zeros((train_data_length, pulses.shape[1]))\n",
    "train_data = torch.tensor(pulses, dtype=torch.float)\n",
    "train_labels = torch.zeros(train_data_length, 1)\n",
    "\n",
    "train_set = [\n",
    "    (train_data[i], train_labels[i]) for i in range(train_data_length)\n",
    "]"
   ]
  },
  {
   "cell_type": "code",
   "execution_count": 14,
   "metadata": {},
   "outputs": [],
   "source": [
    "train_loader = torch.utils.data.DataLoader(\n",
    "    train_set, batch_size=batch_size, shuffle=True, drop_last=True\n",
    ")"
   ]
  },
  {
   "cell_type": "markdown",
   "metadata": {},
   "source": [
    "## 2. Models"
   ]
  },
  {
   "cell_type": "code",
   "execution_count": 16,
   "metadata": {},
   "outputs": [],
   "source": [
    "class Discriminator(nn.Module):\n",
    "    def __init__(self):\n",
    "        super(Discriminator, self).__init__()\n",
    "        self.seq_len = seq_len\n",
    "        self.model = nn.Sequential(            \n",
    "            nn.Conv1d(self.seq_len, self.seq_len // 2, 1,  bias=False),\n",
    "            nn.LeakyReLU(0.2, inplace=True),\n",
    "\n",
    "            nn.Conv1d(self.seq_len // 2, self.seq_len // 4, 1, bias=False),\n",
    "            nn.BatchNorm1d(self.seq_len // 4),\n",
    "            nn.LeakyReLU(0.2, inplace=True),\n",
    "\n",
    "            nn.Conv1d(self.seq_len // 4, self.seq_len // 8, 1, bias=False),\n",
    "            nn.BatchNorm1d(self.seq_len // 8),\n",
    "            nn.LeakyReLU(0.2, inplace=True),\n",
    "            \n",
    "            nn.Conv1d(self.seq_len // 8, self.seq_len // 16, 1, bias=False),\n",
    "            nn.BatchNorm1d(self.seq_len // 16),\n",
    "            nn.LeakyReLU(0.2, inplace=True),\n",
    "\n",
    "            nn.Conv1d(self.seq_len // 16, 1, 1, bias=False),\n",
    "        )\n",
    "    def forward(self, x):\n",
    "        x = x.unsqueeze(-1)\n",
    "        output = self.model(x)\n",
    "        return torch.sigmoid(output.squeeze(-1))"
   ]
  },
  {
   "cell_type": "code",
   "execution_count": 17,
   "metadata": {},
   "outputs": [],
   "source": [
    "class Generator(nn.Module):\n",
    "    def __init__(self):\n",
    "        super(Generator, self).__init__()\n",
    "        self.seq_len = seq_len\n",
    "        self.random_dim = random_dim\n",
    "        self.model = nn.Sequential(\n",
    "            nn.ConvTranspose1d(self.random_dim, self.seq_len // 4, 1, bias=False),\n",
    "            nn.BatchNorm1d(self.seq_len // 4),\n",
    "            nn.ReLU(True),\n",
    "\n",
    "            nn.ConvTranspose1d(self.seq_len // 4, self.seq_len // 2, 1, bias=False),\n",
    "            nn.BatchNorm1d(self.seq_len // 2),\n",
    "            nn.ReLU(True),\n",
    "            \n",
    "            nn.ConvTranspose1d(self.seq_len // 2, self.seq_len, 1, bias=False)\n",
    "      )\n",
    "    def forward(self, z):\n",
    "        z = z.unsqueeze(-1)\n",
    "        output = self.model(z)\n",
    "        return output.squeeze(-1)"
   ]
  },
  {
   "cell_type": "markdown",
   "metadata": {},
   "source": [
    "#  Minimax"
   ]
  },
  {
   "cell_type": "code",
   "execution_count": 18,
   "metadata": {},
   "outputs": [],
   "source": [
    "netD = Discriminator().to(DEVICE)\n",
    "netG = Generator().to(DEVICE)\n",
    "criterion = nn.BCELoss()\n",
    "\n",
    "optimizerD = torch.optim.SGD(netD.parameters(), lr=lr)\n",
    "optimizerG = torch.optim.SGD(netG.parameters(), lr=lr)"
   ]
  },
  {
   "cell_type": "code",
   "execution_count": 20,
   "metadata": {},
   "outputs": [
    {
     "name": "stdout",
     "output_type": "stream",
     "text": [
      "Epoch0 Loss D.: 0.471468061208725||Loss G.: 0.7049261331558228\n",
      "Epoch5 Loss D.: 0.11079531908035278||Loss G.: 0.6920789480209351\n",
      "Epoch10 Loss D.: 0.04674987122416496||Loss G.: 0.6811950206756592\n",
      "Epoch15 Loss D.: 0.028325162827968597||Loss G.: 0.6433761715888977\n",
      "Epoch20 Loss D.: 0.018232394009828568||Loss G.: 0.5924869775772095\n",
      "Epoch25 Loss D.: 0.013259620405733585||Loss G.: 0.5495758056640625\n",
      "Epoch30 Loss D.: 0.010860968381166458||Loss G.: 0.5089505910873413\n",
      "Epoch35 Loss D.: 0.008116895332932472||Loss G.: 0.49127525091171265\n",
      "Epoch40 Loss D.: 0.006592164281755686||Loss G.: 0.4963934123516083\n",
      "Epoch45 Loss D.: 0.005776457488536835||Loss G.: 0.44838833808898926\n",
      "Epoch50 Loss D.: 0.005487382877618074||Loss G.: 0.5044540166854858\n",
      "Epoch55 Loss D.: 0.004379109013825655||Loss G.: 0.4396999478340149\n",
      "Epoch60 Loss D.: 0.003826151369139552||Loss G.: 0.4324480891227722\n",
      "Epoch65 Loss D.: 0.003534060437232256||Loss G.: 0.4384332597255707\n",
      "Epoch70 Loss D.: 0.0033587797079235315||Loss G.: 0.43640655279159546\n",
      "Epoch75 Loss D.: 0.0028042392805218697||Loss G.: 0.41336315870285034\n",
      "Epoch80 Loss D.: 0.002598569495603442||Loss G.: 0.3995630741119385\n",
      "Epoch85 Loss D.: 0.002464067889377475||Loss G.: 0.47082793712615967\n",
      "Epoch90 Loss D.: 0.0024091568775475025||Loss G.: 0.43238964676856995\n",
      "Epoch95 Loss D.: 0.002180433599278331||Loss G.: 0.4082017242908478\n",
      "Epoch100 Loss D.: 0.002153596607968211||Loss G.: 0.4010457396507263\n",
      "Epoch105 Loss D.: 0.002223328687250614||Loss G.: 0.40166139602661133\n",
      "Epoch110 Loss D.: 0.0017738754395395517||Loss G.: 0.4362117052078247\n",
      "Epoch115 Loss D.: 0.002536647953093052||Loss G.: 0.4034317135810852\n"
     ]
    }
   ],
   "source": [
    "G_losses = []\n",
    "D_losses = []\n",
    "\n",
    "for epoch in range(epochs):\n",
    "    for i, (x, y) in enumerate(train_loader):\n",
    "        # real samples\n",
    "        x = x.to(DEVICE)\n",
    "        real_samples_labels = torch.ones((batch_size, 1))\n",
    "        # real samples' labels = 1\n",
    "        real_samples_labels = real_samples_labels.to(DEVICE)\n",
    "        \n",
    "        # generated (fake) samples\n",
    "        latent_space_samples = torch.randn((batch_size, random_dim))\n",
    "        latent_space_samples = latent_space_samples.to(DEVICE)\n",
    "        generated_samples = netG(latent_space_samples)\n",
    "        # fake samples' labels = 0\n",
    "        generated_samples_labels = torch.zeros((batch_size, 1))\n",
    "        generated_samples_labels = generated_samples_labels.to(DEVICE)\n",
    "        \n",
    "        all_samples = torch.cat((x, generated_samples))\n",
    "        all_samples_labels = torch.cat((real_samples_labels, generated_samples_labels))\n",
    "        \n",
    "        ## training the discriminator\n",
    "        netD.zero_grad()\n",
    "        output_discriminator = netD(all_samples)\n",
    "        \n",
    "        errD = criterion(output_discriminator, all_samples_labels)\n",
    "        errD.backward()\n",
    "        optimizerD.step()\n",
    "        \n",
    "        ## training the generator\n",
    "        latent_space_samples = torch.randn(batch_size, random_dim)\n",
    "        latent_space_samples = latent_space_samples.to(DEVICE)\n",
    "        netG.zero_grad()\n",
    "        generated_samples = netG(latent_space_samples)\n",
    "        outputDG = netD(generated_samples)\n",
    "        errG = criterion(outputDG, real_samples_labels)\n",
    "        errG.backward()\n",
    "        optimizerG.step()\n",
    "        \n",
    "        G_losses.append(errG.item()) \n",
    "        D_losses.append(errD.item())\n",
    "    \n",
    "        \n",
    "    if (epoch % 5 == 0):\n",
    "            print(f\"Epoch{epoch} Loss D.: {errD}\" \"||\" \n",
    "              f\"Loss G.: {errG}\")"
   ]
  },
  {
   "cell_type": "code",
   "execution_count": 21,
   "metadata": {},
   "outputs": [],
   "source": [
    "torch.save(netG.state_dict(), 'generator_pca.pth')"
   ]
  },
  {
   "cell_type": "code",
   "execution_count": 22,
   "metadata": {},
   "outputs": [
    {
     "data": {
      "image/png": "[encoded data removed]",
      "text/plain": [
       "<Figure size 432x288 with 1 Axes>"
      ]
     },
     "metadata": {
      "needs_background": "light"
     },
     "output_type": "display_data"
    }
   ],
   "source": [
    "fig = plt.figure()\n",
    "plt.plot(G_losses, '.', label='G')\n",
    "plt.plot(D_losses, '.',  label='D')\n",
    "plt.title('Loss functions')\n",
    "plt.xlabel('Iterations')\n",
    "plt.ylabel('Loss')\n",
    "plt.legend()\n",
    "fig.savefig('losses.png')"
   ]
  },
  {
   "cell_type": "markdown",
   "metadata": {},
   "source": [
    "## 2. First check"
   ]
  },
  {
   "cell_type": "code",
   "execution_count": 23,
   "metadata": {},
   "outputs": [],
   "source": [
    "netG = Generator() \n",
    "netG.load_state_dict(torch.load(\"generator_pca.pth\"))\n",
    "\n",
    "pca = pickle.load(open('pca_pca.pkl','rb'))\n",
    "scaler = pickle.load(open('scaler_pca.pkl','rb'))"
   ]
  },
  {
   "cell_type": "code",
   "execution_count": 24,
   "metadata": {},
   "outputs": [],
   "source": [
    "x = torch.randn(10, random_dim)"
   ]
  },
  {
   "cell_type": "code",
   "execution_count": 25,
   "metadata": {},
   "outputs": [],
   "source": [
    "gen = netG(x).detach()\n",
    "gen = pca.inverse_transform(gen) # back to 5000 points\n",
    "gen = scaler.inverse_transform(gen)"
   ]
  },
  {
   "cell_type": "code",
   "execution_count": 26,
   "metadata": {},
   "outputs": [
    {
     "data": {
      "text/plain": [
       "[<matplotlib.lines.Line2D at 0x29eea8880>]"
      ]
     },
     "execution_count": 26,
     "metadata": {},
     "output_type": "execute_result"
    },
    {
     "data": {
      "image/png": "[encoded data removed]",
      "text/plain": [
       "<Figure size 432x288 with 1 Axes>"
      ]
     },
     "metadata": {
      "needs_background": "light"
     },
     "output_type": "display_data"
    }
   ],
   "source": [
    "plt.plot(gen[0])"
   ]
  }
 ],
 "metadata": {
  "kernelspec": {
   "display_name": "Python 3 (ipykernel)",
   "language": "python",
   "name": "python3"
  },
  "language_info": {
   "codemirror_mode": {
    "name": "ipython",
    "version": 3
   },
   "file_extension": ".py",
   "mimetype": "text/x-python",
   "name": "python",
   "nbconvert_exporter": "python",
   "pygments_lexer": "ipython3",
   "version": "3.8.16"
  }
 },
 "nbformat": 4,
 "nbformat_minor": 4
}
