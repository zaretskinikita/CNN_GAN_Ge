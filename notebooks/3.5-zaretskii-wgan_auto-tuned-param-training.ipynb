{
 "cells": [
  {
   "cell_type": "markdown",
   "metadata": {},
   "source": [
    "# WGAN-autoencoder (after optimization)\n",
    "We use the adversarial autoencoder (https://arxiv.org/pdf/1511.05644.pdf) to encode data, the Wasserstein-GAN (https://arxiv.org/pdf/1704.00028v3.pdf) works in the new (encoded) space.\n",
    "The generator model generates samples from latent space to the encoded space, the discriminator model distinguishes real and fake samples in the encoded space. The decoding is used after generation in order to represent samples from the encoded space to the initial space."
   ]
  },
  {
   "cell_type": "code",
   "execution_count": 2,
   "metadata": {},
   "outputs": [],
   "source": [
    "import numpy as np\n",
    "\n",
    "import matplotlib.pyplot as plt\n",
    "\n",
    "from sklearn import model_selection\n",
    "from sklearn import metrics\n",
    "import torch\n",
    "import torch.nn as nn\n",
    "import torch.optim as optim\n",
    "from torch.utils.data import Dataset, DataLoader\n",
    "import time\n",
    "from sklearn.utils import shuffle\n",
    "from sklearn.preprocessing import StandardScaler    \n",
    "from sklearn.utils import shuffle\n",
    "import matplotlib\n",
    "import torch.autograd as autograd\n",
    "import random\n",
    "import torch.autograd as autograd\n",
    "import sklearn.metrics\n",
    "import torch.nn.functional as F\n",
    "from sklearn.preprocessing import StandardScaler\n",
    "\n",
    "import pickle\n",
    "import torch.autograd as autograd\n",
    "from sklearn.preprocessing import StandardScaler\n",
    "\n",
    "random_seed = 1245627304\n",
    "torch.manual_seed(random_seed)\n",
    "DEVICE = torch.device('mps' if torch.backends.mps.is_available() else \"cpu\")"
   ]
  },
  {
   "cell_type": "code",
   "execution_count": 3,
   "metadata": {},
   "outputs": [
    {
     "name": "stdout",
     "output_type": "stream",
     "text": [
      "{'lr_auto': 0.006435632456005054, 'epochs_autoen': 87, 'lr_wgan': 0.0028886418155533253, 'iters': 1031, 'critic_iters': 8, 'lambda': 6, 'emb_dim': 321, 'random_dim': 22}\n"
     ]
    }
   ],
   "source": [
    "params = pickle.load(open('wgan_best_parameters.pkl', 'rb'))\n",
    "# print(params)\n",
    "params_model = pickle.load(open('wgan_best_model_parameters.pkl', 'rb'))\n",
    "# print(params_model)\n",
    "params.update(params_model)\n",
    "print(params)"
   ]
  },
  {
   "cell_type": "code",
   "execution_count": 4,
   "metadata": {},
   "outputs": [],
   "source": [
    "batch_size = 128\n",
    "lr_wgan = params.get('lr_wgan')\n",
    "lr_auto = params.get('lr_auto')\n",
    "seq_len = 5000 # initial space\n",
    "emb_dim = params.get('emb_dim') # encoded space\n",
    "random_dim = params.get('random_dim')  # latent space for the generator model\n",
    "epochs_autoen = params.get('epochs_autoen') #epochs to train autoencoder\n",
    "ITERS = params.get('iters') # iterations to train WGAN\n",
    "CRITIC_ITERS = params.get('critic_iters')\n",
    "LAMBDA = params.get('lambda') # penalty"
   ]
  },
  {
   "cell_type": "markdown",
   "metadata": {},
   "source": [
    "## 1. Preprocessing"
   ]
  },
  {
   "cell_type": "code",
   "execution_count": 3,
   "metadata": {},
   "outputs": [],
   "source": [
    "pulses = pickle.load(open('/Users/nzaretski/Desktop/gerda/CNN_GAN_Ge/data/raw/data.pkl','rb'))\n",
    "pulses = pulses.astype(float)"
   ]
  },
  {
   "cell_type": "code",
   "execution_count": 4,
   "metadata": {},
   "outputs": [],
   "source": [
    "scaler = StandardScaler()\n",
    "pulses = scaler.fit_transform(pulses)\n",
    "\n",
    "pickle.dump(scaler, open('scaler.pkl','wb'))"
   ]
  },
  {
   "cell_type": "code",
   "execution_count": 5,
   "metadata": {},
   "outputs": [],
   "source": [
    "train_data_length = pulses.shape[0]\n",
    "train_data = torch.zeros((train_data_length, 3748))\n",
    "train_data = torch.tensor(pulses, dtype=torch.float)\n",
    "train_labels = torch.zeros(train_data_length, 1)\n",
    "\n",
    "train_set = [\n",
    "    (train_data[i], train_labels[i]) for i in range(train_data_length)\n",
    "]"
   ]
  },
  {
   "cell_type": "code",
   "execution_count": 7,
   "metadata": {},
   "outputs": [],
   "source": [
    "train_loader = torch.utils.data.DataLoader(\n",
    "    train_set, batch_size=batch_size, shuffle=True, drop_last=True\n",
    ")"
   ]
  },
  {
   "cell_type": "markdown",
   "metadata": {},
   "source": [
    "## 1. Models"
   ]
  },
  {
   "cell_type": "code",
   "execution_count": 5,
   "metadata": {},
   "outputs": [],
   "source": [
    "class Encoder(nn.Module):\n",
    "    def __init__(self, seq_len, emb_dim):\n",
    "        super(Encoder, self).__init__()\n",
    "        self.seq_len = seq_len\n",
    "        self.emb_dim = emb_dim\n",
    "        self.model = nn.Sequential(            \n",
    "            nn.Conv1d(self.seq_len, self.seq_len // 2, 1,  bias=False),\n",
    "            nn.LeakyReLU(0.2, inplace=True),\n",
    "\n",
    "            nn.Conv1d(self.seq_len // 2, self.seq_len // 4, 1, bias=False),\n",
    "            nn.BatchNorm1d(self.seq_len // 4),\n",
    "            nn.LeakyReLU(0.2, inplace=True),\n",
    "\n",
    "            nn.Conv1d(self.seq_len // 4, self.seq_len // 8, 1, bias=False),\n",
    "            nn.BatchNorm1d(self.seq_len // 8),\n",
    "            nn.LeakyReLU(0.2, inplace=True),\n",
    "\n",
    "            nn.Conv1d(self.seq_len // 8, self.emb_dim, 1, bias=False),\n",
    "        )\n",
    "\n",
    "    def forward(self, x):\n",
    "        x = x.unsqueeze(-1)\n",
    "        output = self.model(x)\n",
    "        return output.squeeze(-1)\n",
    "    \n",
    "class Decoder(nn.Module):\n",
    "    def __init__(self, seq_len, emb_dim):\n",
    "        super(Decoder, self).__init__()\n",
    "        self.seq_len = seq_len\n",
    "        self.emb_dim = emb_dim\n",
    "        self.model = nn.Sequential(\n",
    "            nn.ConvTranspose1d(self.emb_dim, self.seq_len // 8, 1, bias=False),\n",
    "            nn.BatchNorm1d(self.seq_len // 8),\n",
    "            nn.ReLU(True),\n",
    "\n",
    "            nn.ConvTranspose1d(self.seq_len // 8, self.seq_len // 4, 1, bias=False),\n",
    "            nn.BatchNorm1d(self.seq_len // 4),\n",
    "            nn.ReLU(True),\n",
    "\n",
    "            nn.ConvTranspose1d(self.seq_len // 4, self.seq_len // 2, 1, bias=False),\n",
    "            nn.BatchNorm1d(self.seq_len // 2),\n",
    "            nn.ReLU(True),\n",
    "\n",
    "            nn.ConvTranspose1d(self.seq_len // 2, self.seq_len, 1, bias=False),\n",
    "      )\n",
    "    def forward(self, z):\n",
    "        z = z.unsqueeze(-1)\n",
    "        output = self.model(z)\n",
    "        return output.squeeze(-1)"
   ]
  },
  {
   "cell_type": "code",
   "execution_count": 6,
   "metadata": {},
   "outputs": [],
   "source": [
    "class Discriminator(nn.Module):   \n",
    "    def __init__(self, emb_dim):\n",
    "        super(Discriminator, self).__init__()\n",
    "        self.emb_dim = emb_dim\n",
    "        self.model = nn.Sequential(            \n",
    "            nn.Conv1d(self.emb_dim, self.emb_dim // 2, 1,  bias=False),\n",
    "            nn.LeakyReLU(0.2, inplace=True),\n",
    "\n",
    "            nn.Conv1d(self.emb_dim // 2, self.emb_dim // 4, 1, bias=False),\n",
    "            nn.BatchNorm1d(self.emb_dim // 4),\n",
    "            nn.LeakyReLU(0.2, inplace=True),\n",
    "\n",
    "            nn.Conv1d(self.emb_dim // 4, self.emb_dim // 8, 1, bias=False),\n",
    "            nn.BatchNorm1d(self.emb_dim // 8),\n",
    "            nn.LeakyReLU(0.2, inplace=True),\n",
    "            \n",
    "            nn.Conv1d(self.emb_dim // 8, self.emb_dim // 16, 1, bias=False),\n",
    "            nn.BatchNorm1d(self.emb_dim // 16),\n",
    "            nn.LeakyReLU(0.2, inplace=True),\n",
    "\n",
    "            nn.Conv1d(self.emb_dim // 16, 1, 1, bias=False),\n",
    "        )\n",
    "\n",
    "    def forward(self, x):\n",
    "        x = x.unsqueeze(-1)\n",
    "        output = self.model(x)\n",
    "        return output.squeeze(-1)\n",
    "    \n",
    "class Generator(nn.Module):\n",
    "    def __init__(self, emb_dim, random_dim):\n",
    "        super(Generator, self).__init__()\n",
    "        self.emb_dim = emb_dim\n",
    "        self.random_dim = random_dim\n",
    "        self.model = nn.Sequential(\n",
    "            nn.ConvTranspose1d(self.random_dim, self.emb_dim // 8, 1, bias=False),\n",
    "            nn.BatchNorm1d(self.emb_dim // 8),\n",
    "            nn.ReLU(True),\n",
    "\n",
    "            nn.ConvTranspose1d(self.emb_dim // 8, self.emb_dim // 4, 1, bias=False),\n",
    "            nn.BatchNorm1d(self.emb_dim // 4),\n",
    "            nn.ReLU(True),\n",
    "\n",
    "            nn.ConvTranspose1d(self.emb_dim // 4, self.emb_dim // 2, 1, bias=False),\n",
    "            nn.BatchNorm1d(self.emb_dim // 2),\n",
    "            nn.ReLU(True),\n",
    "\n",
    "            nn.ConvTranspose1d(self.emb_dim // 2, self.emb_dim, 1, bias=False),\n",
    "      )\n",
    "    def forward(self, z):\n",
    "        z = z.unsqueeze(-1)\n",
    "        output = self.model(z)\n",
    "        return output.squeeze(-1)"
   ]
  },
  {
   "cell_type": "code",
   "execution_count": 7,
   "metadata": {},
   "outputs": [],
   "source": [
    "class PriorDiscriminator(nn.Module):\n",
    "    def __init__(self, emb_dim):\n",
    "        super().__init__()\n",
    "        self.emb_dim = emb_dim\n",
    "        self.l0 = nn.Linear(self.emb_dim, 64)\n",
    "        self.l1 = nn.Linear(64, 64//4)\n",
    "        self.l2 = nn.Linear(64//4, 1)\n",
    "        \n",
    "    def forward(self, x):\n",
    "        h = F.leaky_relu(self.l0(x))\n",
    "        h = F.leaky_relu(self.l1(h))\n",
    "        return torch.sigmoid(self.l2(h))"
   ]
  },
  {
   "cell_type": "markdown",
   "metadata": {},
   "source": [
    "# Autoencoder"
   ]
  },
  {
   "cell_type": "code",
   "execution_count": 13,
   "metadata": {},
   "outputs": [
    {
     "name": "stdout",
     "output_type": "stream",
     "text": [
      "mps\n"
     ]
    }
   ],
   "source": [
    "DEVICE = torch.device(\"mps\" if torch.backends.mps.is_available() else \"cpu\")\n",
    "print(DEVICE)"
   ]
  },
  {
   "cell_type": "code",
   "execution_count": 8,
   "metadata": {},
   "outputs": [],
   "source": [
    "encoder = Encoder(seq_len, emb_dim).to(DEVICE)\n",
    "decoder = Decoder(seq_len, emb_dim).to(DEVICE)\n",
    "disc = PriorDiscriminator(emb_dim).to(DEVICE)\n",
    "recon_loss = nn.MSELoss(reduction = 'sum').to(DEVICE)"
   ]
  },
  {
   "cell_type": "code",
   "execution_count": 16,
   "metadata": {},
   "outputs": [],
   "source": [
    "optim_encoder = torch.optim.Adam(encoder.parameters(), lr=lr_auto)\n",
    "optim_decoder = torch.optim.Adam(decoder.parameters(), lr=lr_auto)\n",
    "\n",
    "optim_encoder_reg = torch.optim.Adam(encoder.parameters(), lr=lr_auto)\n",
    "optim_D = torch.optim.Adam(disc.parameters(), lr=lr_auto)"
   ]
  },
  {
   "cell_type": "code",
   "execution_count": 17,
   "metadata": {
    "scrolled": true
   },
   "outputs": [
    {
     "name": "stdout",
     "output_type": "stream",
     "text": [
      "Train Epoch: 0 [0/2619 (0%)]\tLoss: 427437.343750\n",
      "---1 epoch: 8.033674001693726 seconds ---\n",
      "Train Epoch: 1 [0/2619 (0%)]\tLoss: 171430.765625\n",
      "Train Epoch: 2 [0/2619 (0%)]\tLoss: 2132875.750000\n",
      "Train Epoch: 3 [0/2619 (0%)]\tLoss: 202331.500000\n",
      "Train Epoch: 4 [0/2619 (0%)]\tLoss: 103884.476562\n",
      "Train Epoch: 5 [0/2619 (0%)]\tLoss: 282021.218750\n",
      "Train Epoch: 6 [0/2619 (0%)]\tLoss: 361495.687500\n",
      "Train Epoch: 7 [0/2619 (0%)]\tLoss: 488485.031250\n",
      "Train Epoch: 8 [0/2619 (0%)]\tLoss: 66331.695312\n",
      "Train Epoch: 9 [0/2619 (0%)]\tLoss: 148345.375000\n",
      "Train Epoch: 10 [0/2619 (0%)]\tLoss: 548086.062500\n",
      "Train Epoch: 11 [0/2619 (0%)]\tLoss: 158014.078125\n",
      "Train Epoch: 12 [0/2619 (0%)]\tLoss: 300238.718750\n",
      "Train Epoch: 13 [0/2619 (0%)]\tLoss: 307312.687500\n",
      "Train Epoch: 14 [0/2619 (0%)]\tLoss: 113517.671875\n",
      "Train Epoch: 15 [0/2619 (0%)]\tLoss: 454444.468750\n",
      "Train Epoch: 16 [0/2619 (0%)]\tLoss: 115299.421875\n",
      "Train Epoch: 17 [0/2619 (0%)]\tLoss: 81145.851562\n",
      "Train Epoch: 18 [0/2619 (0%)]\tLoss: 90698.851562\n",
      "Train Epoch: 19 [0/2619 (0%)]\tLoss: 38757.226562\n",
      "Train Epoch: 20 [0/2619 (0%)]\tLoss: 41397.554688\n",
      "Train Epoch: 21 [0/2619 (0%)]\tLoss: 27116.914062\n",
      "Train Epoch: 22 [0/2619 (0%)]\tLoss: 34788.875000\n",
      "Train Epoch: 23 [0/2619 (0%)]\tLoss: 789754.625000\n",
      "Train Epoch: 24 [0/2619 (0%)]\tLoss: 37980.488281\n",
      "Train Epoch: 25 [0/2619 (0%)]\tLoss: 22424.566406\n",
      "Train Epoch: 26 [0/2619 (0%)]\tLoss: 25828.740234\n",
      "Train Epoch: 27 [0/2619 (0%)]\tLoss: 40483.671875\n",
      "Train Epoch: 28 [0/2619 (0%)]\tLoss: 38515.054688\n",
      "Train Epoch: 29 [0/2619 (0%)]\tLoss: 18242.785156\n",
      "Train Epoch: 30 [0/2619 (0%)]\tLoss: 20829.359375\n",
      "Train Epoch: 31 [0/2619 (0%)]\tLoss: 37718.378906\n",
      "Train Epoch: 32 [0/2619 (0%)]\tLoss: 50637.093750\n",
      "Train Epoch: 33 [0/2619 (0%)]\tLoss: 35871.250000\n",
      "Train Epoch: 34 [0/2619 (0%)]\tLoss: 37795.796875\n",
      "Train Epoch: 35 [0/2619 (0%)]\tLoss: 23600.066406\n",
      "Train Epoch: 36 [0/2619 (0%)]\tLoss: 29276.761719\n",
      "Train Epoch: 37 [0/2619 (0%)]\tLoss: 28506.242188\n",
      "Train Epoch: 38 [0/2619 (0%)]\tLoss: 46574.609375\n",
      "Train Epoch: 39 [0/2619 (0%)]\tLoss: 45346.300781\n",
      "Train Epoch: 40 [0/2619 (0%)]\tLoss: 16477.068359\n",
      "Train Epoch: 41 [0/2619 (0%)]\tLoss: 38348.332031\n",
      "Train Epoch: 42 [0/2619 (0%)]\tLoss: 58769.421875\n",
      "Train Epoch: 43 [0/2619 (0%)]\tLoss: 19138.353516\n",
      "Train Epoch: 44 [0/2619 (0%)]\tLoss: 28720.740234\n",
      "Train Epoch: 45 [0/2619 (0%)]\tLoss: 58197.335938\n",
      "Train Epoch: 46 [0/2619 (0%)]\tLoss: 88986.703125\n",
      "Train Epoch: 47 [0/2619 (0%)]\tLoss: 17387.548828\n",
      "Train Epoch: 48 [0/2619 (0%)]\tLoss: 73280.257812\n",
      "Train Epoch: 49 [0/2619 (0%)]\tLoss: 19437.775391\n",
      "Train Epoch: 50 [0/2619 (0%)]\tLoss: 35868.843750\n",
      "Train Epoch: 51 [0/2619 (0%)]\tLoss: 448444.593750\n",
      "Train Epoch: 52 [0/2619 (0%)]\tLoss: 47614.437500\n",
      "Train Epoch: 53 [0/2619 (0%)]\tLoss: 72401.976562\n",
      "Train Epoch: 54 [0/2619 (0%)]\tLoss: 42711.714844\n",
      "Train Epoch: 55 [0/2619 (0%)]\tLoss: 13271.009766\n",
      "Train Epoch: 56 [0/2619 (0%)]\tLoss: 12432.996094\n",
      "Train Epoch: 57 [0/2619 (0%)]\tLoss: 103651.390625\n",
      "Train Epoch: 58 [0/2619 (0%)]\tLoss: 75986.898438\n",
      "Train Epoch: 59 [0/2619 (0%)]\tLoss: 13212.706055\n",
      "Train Epoch: 60 [0/2619 (0%)]\tLoss: 20284.589844\n",
      "Train Epoch: 61 [0/2619 (0%)]\tLoss: 10170.280273\n",
      "Train Epoch: 62 [0/2619 (0%)]\tLoss: 11404.503906\n",
      "Train Epoch: 63 [0/2619 (0%)]\tLoss: 36853.343750\n",
      "Train Epoch: 64 [0/2619 (0%)]\tLoss: 27173.722656\n",
      "Train Epoch: 65 [0/2619 (0%)]\tLoss: 24534.705078\n",
      "Train Epoch: 66 [0/2619 (0%)]\tLoss: 11645.514648\n",
      "Train Epoch: 67 [0/2619 (0%)]\tLoss: 17891.630859\n",
      "Train Epoch: 68 [0/2619 (0%)]\tLoss: 28811.658203\n",
      "Train Epoch: 69 [0/2619 (0%)]\tLoss: 15444.498047\n",
      "Train Epoch: 70 [0/2619 (0%)]\tLoss: 13469.838867\n",
      "Train Epoch: 71 [0/2619 (0%)]\tLoss: 13066.625000\n",
      "Train Epoch: 72 [0/2619 (0%)]\tLoss: 19882.851562\n",
      "Train Epoch: 73 [0/2619 (0%)]\tLoss: 32789.574219\n",
      "Train Epoch: 74 [0/2619 (0%)]\tLoss: 13690.023438\n",
      "Train Epoch: 75 [0/2619 (0%)]\tLoss: 14626.705078\n",
      "Train Epoch: 76 [0/2619 (0%)]\tLoss: 14880.565430\n",
      "Train Epoch: 77 [0/2619 (0%)]\tLoss: 33483.929688\n",
      "Train Epoch: 78 [0/2619 (0%)]\tLoss: 17021.335938\n",
      "Train Epoch: 79 [0/2619 (0%)]\tLoss: 66630.093750\n",
      "Train Epoch: 80 [0/2619 (0%)]\tLoss: 33529.722656\n",
      "Train Epoch: 81 [0/2619 (0%)]\tLoss: 72602.968750\n",
      "Train Epoch: 82 [0/2619 (0%)]\tLoss: 52702.234375\n",
      "Train Epoch: 83 [0/2619 (0%)]\tLoss: 23178.904297\n",
      "Train Epoch: 84 [0/2619 (0%)]\tLoss: 47481.917969\n",
      "Train Epoch: 85 [0/2619 (0%)]\tLoss: 34438.558594\n",
      "Train Epoch: 86 [0/2619 (0%)]\tLoss: 58206.945312\n"
     ]
    }
   ],
   "source": [
    "loss_ep = []\n",
    "losses = []\n",
    "start_time = time.time()\n",
    "one = torch.FloatTensor([1])\n",
    "mone = one * -1\n",
    "one = one.to(DEVICE)\n",
    "mone = mone.to(DEVICE)\n",
    "for epoch in range(epochs_autoen):\n",
    "    for i, (x, y) in enumerate(train_loader):\n",
    "        \n",
    "        x = x.to(DEVICE)\n",
    "        y = y.to(DEVICE)\n",
    "        batch = x.size(0)\n",
    "        \n",
    "        encoder.train()\n",
    "        decoder.train()\n",
    "        disc.train()\n",
    "        \n",
    "        encoder.zero_grad()\n",
    "        decoder.zero_grad()\n",
    "        disc.zero_grad()\n",
    "        \n",
    "        # Reconstruction phase\n",
    "        z = encoder(x)\n",
    "        x_hat = decoder(z)\n",
    "        loss = recon_loss(x_hat,x)\n",
    "        loss.backward()\n",
    "        optim_encoder.step()\n",
    "        optim_decoder.step()\n",
    "\n",
    "\n",
    "        # Discriminator phase\n",
    "        encoder.zero_grad()\n",
    "        decoder.zero_grad()\n",
    "        disc.zero_grad()\n",
    "        encoder.eval()\n",
    "        \n",
    "        z_real_gauss = autograd.Variable(torch.randn(z.size())*1).to(DEVICE)\n",
    "        z_fake_gauss = encoder(x)\n",
    "        \n",
    "        D_real_gauss, D_fake_gauss = disc(z_real_gauss), disc(z_fake_gauss.detach())\n",
    "        \n",
    "        real_outputs = D_real_gauss.mean(dim=0)\n",
    "        real_outputs.backward(mone)\n",
    "        fake_outputs = D_fake_gauss.mean(dim=0)\n",
    "        fake_outputs.backward(one)\n",
    "        optim_D.step()\n",
    "        \n",
    "        # Regularization phase\n",
    "        encoder.zero_grad()\n",
    "        decoder.zero_grad()\n",
    "        disc.zero_grad()\n",
    "\n",
    "        encoder.train()\n",
    "        z = encoder(x)\n",
    "        D_fake_gauss = disc(z)\n",
    "        fake_outputs = D_fake_gauss.mean(dim=0)\n",
    "        fake_outputs.backward(mone)\n",
    "        optim_encoder_reg.step()\n",
    "        \n",
    "        if i % 20 == 0:\n",
    "            print('Train Epoch: {} [{}/{} ({:.0f}%)]\\tLoss: {:.6f}'.format(\n",
    "                epoch, i * len(x), len(train_loader.dataset),\n",
    "                100. * i / len(train_loader), loss.item()))\n",
    "            \n",
    "        if (i == len(train_loader) - 1): # per epoch \n",
    "            loss_ep.append(loss.item())        \n",
    "        \n",
    "        losses.append(loss.item())        \n",
    "\n",
    "\n",
    "    if epoch == 0:\n",
    "        print(\"---1 epoch: %s seconds ---\" % (time.time() - start_time))"
   ]
  },
  {
   "cell_type": "code",
   "execution_count": 18,
   "metadata": {},
   "outputs": [],
   "source": [
    "torch.save(decoder.state_dict(), 'wgan_auto_decoder.pth')"
   ]
  },
  {
   "cell_type": "code",
   "execution_count": 19,
   "metadata": {},
   "outputs": [
    {
     "data": {
      "image/png": "[encoded data removed]",
      "text/plain": [
       "<Figure size 432x288 with 1 Axes>"
      ]
     },
     "metadata": {
      "needs_background": "light"
     },
     "output_type": "display_data"
    }
   ],
   "source": [
    "fig = plt.figure()\n",
    "plt.plot(losses, '.')\n",
    "plt.xlabel('Iterations')\n",
    "plt.ylabel('Loss')\n",
    "plt.title(\"Autoencoder\")\n",
    "fig.savefig('Auto_losses.png')"
   ]
  },
  {
   "cell_type": "markdown",
   "metadata": {},
   "source": [
    "# WGAN"
   ]
  },
  {
   "cell_type": "code",
   "execution_count": 9,
   "metadata": {},
   "outputs": [],
   "source": [
    "netD = Discriminator(emb_dim).to(DEVICE)\n",
    "netG = Generator(emb_dim, random_dim).to(DEVICE)"
   ]
  },
  {
   "cell_type": "code",
   "execution_count": 24,
   "metadata": {},
   "outputs": [],
   "source": [
    "optimizerD = torch.optim.Adam(netD.parameters(), lr=lr_wgan)\n",
    "optimizerG = torch.optim.Adam(netG.parameters(), lr=lr_wgan)\n",
    "loss_G=[]\n",
    "loss_D=[]\n",
    "epochs = []\n",
    "\n",
    "one = torch.tensor(1, dtype=torch.float)\n",
    "mone = one * -1\n",
    "one = one.to(DEVICE)\n",
    "mone = mone.to(DEVICE)"
   ]
  },
  {
   "cell_type": "code",
   "execution_count": 25,
   "metadata": {},
   "outputs": [],
   "source": [
    "def inf_train_gen():\n",
    "    while True:\n",
    "        for images,targets in train_loader:\n",
    "            yield images"
   ]
  },
  {
   "cell_type": "code",
   "execution_count": 26,
   "metadata": {},
   "outputs": [],
   "source": [
    "def calc_gradient_penalty(netD, real_data, fake_data):\n",
    "    #print real_data.size()\n",
    "    alpha = torch.rand(batch_size, 1)\n",
    "    alpha = alpha.expand(real_data.size())\n",
    "    alpha = alpha.to(DEVICE)\n",
    "\n",
    "    interpolates = alpha * real_data + ((1 - alpha) * fake_data)\n",
    "\n",
    "    interpolates = interpolates.to(DEVICE)\n",
    "    interpolates = autograd.Variable(interpolates, requires_grad=True)\n",
    "\n",
    "    disc_interpolates = netD(interpolates)\n",
    "\n",
    "    gradients = autograd.grad(outputs=disc_interpolates, inputs=interpolates,\n",
    "                              grad_outputs=torch.ones(disc_interpolates.size()).to(DEVICE),\n",
    "                              create_graph=True, retain_graph=True, only_inputs=True)[0]\n",
    "\n",
    "    gradient_penalty = ((gradients.norm(2, dim=1) - 1) ** 2).mean() * LAMBDA\n",
    "    return gradient_penalty"
   ]
  },
  {
   "cell_type": "code",
   "execution_count": 27,
   "metadata": {
    "scrolled": true
   },
   "outputs": [
    {
     "name": "stdout",
     "output_type": "stream",
     "text": [
      "0.3050795793533325 5.799543380737305\n",
      "7.625192165374756 -4.119746685028076\n",
      "49.70452880859375 -54.5384635925293\n",
      "121.66658020019531 -137.93975830078125\n",
      "88.55743408203125 -75.93413543701172\n",
      "151.86105346679688 -106.42811584472656\n",
      "151.6424560546875 -90.17493438720703\n",
      "172.85299682617188 -143.80369567871094\n",
      "166.62570190429688 -70.46868133544922\n",
      "182.71058654785156 -108.62541198730469\n",
      "232.8125457763672 -149.6697998046875\n",
      "238.62570190429688 -196.14208984375\n",
      "189.46617126464844 -25.288555145263672\n",
      "205.79588317871094 -46.62886047363281\n",
      "251.3271942138672 -110.8194351196289\n",
      "201.5248260498047 -31.425399780273438\n",
      "243.9015350341797 -94.63571166992188\n",
      "160.48947143554688 -44.24003219604492\n",
      "249.18804931640625 -27.352767944335938\n",
      "430.2244873046875 -149.4158935546875\n",
      "385.847900390625 -20.398658752441406\n"
     ]
    }
   ],
   "source": [
    "netD = netD.to(DEVICE)\n",
    "netG = netG.to(DEVICE)\n",
    "data = inf_train_gen()\n",
    "for iteration in range(ITERS):\n",
    "    epochs.append(iteration)\n",
    "    start_time = time.time()\n",
    "    # (1) Update D network\n",
    "    for p in netD.parameters():  # reset requires_grad\n",
    "        p.requires_grad = True  # they are set to False below in netG update\n",
    "\n",
    "    for iter_d in range(CRITIC_ITERS):\n",
    "        _data = next(data)\n",
    "        _data = _data.to(DEVICE)\n",
    "        _data = encoder(_data).detach()\n",
    "        real_data = torch.Tensor(_data)\n",
    "        real_data = real_data.to(DEVICE)\n",
    "        real_data_v = autograd.Variable(real_data).to(DEVICE)\n",
    "\n",
    "        netD.zero_grad()\n",
    "\n",
    "        # train with real\n",
    "        D_real = netD(real_data_v)\n",
    "        D_real = D_real.mean()\n",
    "        # print D_real\n",
    "        D_real.backward(mone)\n",
    "\n",
    "        # train with fake\n",
    "        noise = torch.randn(batch_size, random_dim).to(DEVICE)\n",
    "        fake = netG(noise).detach()\n",
    "        inputv = fake\n",
    "        D_fake = netD(inputv)\n",
    "        D_fake = D_fake.mean()\n",
    "        D_fake.backward(one)\n",
    "\n",
    "        # train with gradient penalty\n",
    "        gradient_penalty = calc_gradient_penalty(netD, real_data_v.data, fake.data)\n",
    "        gradient_penalty.backward()\n",
    "\n",
    "        D_cost = D_fake - D_real + gradient_penalty\n",
    "        Wasserstein_D = D_real - D_fake\n",
    "        optimizerD.step()\n",
    "        \n",
    "    loss_D.append(D_cost.item())\n",
    "    # (2) Update G network\n",
    "    for p in netD.parameters():\n",
    "        p.requires_grad = False  # to avoid computation\n",
    "    netG.zero_grad()\n",
    "\n",
    "    _data = next(data)\n",
    "    noise = torch.randn(batch_size, random_dim).to(DEVICE)\n",
    "    noisev = autograd.Variable(noise).to(DEVICE)\n",
    "    fake = netG(noisev)\n",
    "    G = netD(fake)\n",
    "    G = G.mean()\n",
    "    G.backward(mone)\n",
    "    G_cost = -G\n",
    "    loss_G.append(G_cost.item())\n",
    "    optimizerG.step()\n",
    "    if iteration % 50 == 0:\n",
    "        print(G_cost.item(), D_cost.item())"
   ]
  },
  {
   "cell_type": "code",
   "execution_count": 28,
   "metadata": {
    "scrolled": true
   },
   "outputs": [
    {
     "data": {
      "image/png": "[encoded data removed]",
      "text/plain": [
       "<Figure size 432x288 with 1 Axes>"
      ]
     },
     "metadata": {
      "needs_background": "light"
     },
     "output_type": "display_data"
    }
   ],
   "source": [
    "fig = plt.figure()\n",
    "plt.plot(loss_G, '.', label='generator')\n",
    "plt.plot(loss_D, '.',  label='discriminator')\n",
    "plt.title('Loss functions')\n",
    "plt.xlabel('Epochs')\n",
    "plt.ylabel('Loss')\n",
    "plt.legend()\n",
    "fig.savefig('losses.png')"
   ]
  },
  {
   "cell_type": "code",
   "execution_count": 29,
   "metadata": {},
   "outputs": [],
   "source": [
    "torch.save(netG.state_dict(), 'wgan_auto.pth')"
   ]
  },
  {
   "cell_type": "markdown",
   "metadata": {},
   "source": [
    "## Check"
   ]
  },
  {
   "cell_type": "code",
   "execution_count": 31,
   "metadata": {},
   "outputs": [],
   "source": [
    "x = torch.randn(10, random_dim).to(DEVICE)"
   ]
  },
  {
   "cell_type": "code",
   "execution_count": 32,
   "metadata": {},
   "outputs": [],
   "source": [
    "noise = netG(x)"
   ]
  },
  {
   "cell_type": "code",
   "execution_count": 33,
   "metadata": {},
   "outputs": [],
   "source": [
    "a = decoder(noise).cpu().detach().numpy()"
   ]
  },
  {
   "cell_type": "code",
   "execution_count": 34,
   "metadata": {},
   "outputs": [],
   "source": [
    "a = scaler.inverse_transform(a)"
   ]
  },
  {
   "cell_type": "code",
   "execution_count": 35,
   "metadata": {},
   "outputs": [
    {
     "data": {
      "text/plain": [
       "[<matplotlib.lines.Line2D at 0x2f921c1c0>]"
      ]
     },
     "execution_count": 35,
     "metadata": {},
     "output_type": "execute_result"
    },
    {
     "data": {
      "image/png": "[encoded data removed]",
      "text/plain": [
       "<Figure size 432x288 with 1 Axes>"
      ]
     },
     "metadata": {
      "needs_background": "light"
     },
     "output_type": "display_data"
    }
   ],
   "source": [
    "plt.plot(a[2])"
   ]
  },
  {
   "cell_type": "code",
   "execution_count": 36,
   "metadata": {},
   "outputs": [
    {
     "data": {
      "text/plain": [
       "array([-3.2285156, -1.5449219, -1.5664062, ..., 13.333984 ,  9.745117 ,\n",
       "       10.894531 ], dtype=float32)"
      ]
     },
     "execution_count": 36,
     "metadata": {},
     "output_type": "execute_result"
    }
   ],
   "source": [
    "a[0] - a[5]"
   ]
  }
 ],
 "metadata": {
  "kernelspec": {
   "display_name": "Python 3 (ipykernel)",
   "language": "python",
   "name": "python3"
  },
  "language_info": {
   "codemirror_mode": {
    "name": "ipython",
    "version": 3
   },
   "file_extension": ".py",
   "mimetype": "text/x-python",
   "name": "python",
   "nbconvert_exporter": "python",
   "pygments_lexer": "ipython3",
   "version": "3.8.16"
  }
 },
 "nbformat": 4,
 "nbformat_minor": 4
}
